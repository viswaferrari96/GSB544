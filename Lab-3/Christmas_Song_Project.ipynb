{
 "cells": [
  {
   "cell_type": "raw",
   "metadata": {},
   "source": [
    "---\n",
    "self-contained: true\n",
    "title: \"Lab 3: Christmas Song\"\n",
    "author: \"Viswadatta Chinta\"\n",
    "date: 10/09/2023\n",
    "date-format: long\n",
    "format:\n",
    "    html:\n",
    "        mainfont: sans-serif;\n",
    "        theme: darkly\n",
    "---"
   ]
  },
  {
   "cell_type": "code",
   "execution_count": 1,
   "metadata": {
    "id": "pxdak1NxKseb"
   },
   "outputs": [],
   "source": [
    "import pandas as pd\n",
    "import numpy as np\n",
    "from numpy.core import numerictypes\n",
    "xmas = pd.read_csv(\"https://www.dropbox.com/scl/fi/qxaslqqp5p08i1650rpc4/xmas.csv?rlkey=erdxi7jbh7pqf9fh4lv4cayp5&dl=1\")"
   ]
  },
  {
   "cell_type": "code",
   "execution_count": 2,
   "metadata": {
    "id": "QFZ3Sb2-TM8e"
   },
   "outputs": [],
   "source": [
    "def pluralize_gift(gift):\n",
    "  if 'oo' in gift:\n",
    "    gift = gift.replace('oo', 'ee') #conditions for the endings of strings\n",
    "  elif gift[-1] == 'y':\n",
    "    gift = gift.replace('y', 'ies')\n",
    "  else:\n",
    "    gift += 's'\n",
    "  return gift"
   ]
  },
  {
   "cell_type": "code",
   "execution_count": 3,
   "metadata": {
    "id": "V1xnxleuTOgc"
   },
   "outputs": [],
   "source": [
    "pluralize_gift = np.vectorize(pluralize_gift) #vectorizing"
   ]
  },
  {
   "cell_type": "code",
   "execution_count": 4,
   "metadata": {
    "colab": {
     "base_uri": "https://localhost:8080/"
    },
    "id": "xs-HybcdTQ6b",
    "outputId": "24e3702f-8db5-4611-dfbd-cb5d8397cba3"
   },
   "outputs": [
    {
     "name": "stdout",
     "output_type": "stream",
     "text": [
      "Geese\n",
      "['partridges' 'doves' 'hens' 'birds' 'rings' 'geese' 'swans' 'maids'\n",
      " 'ladies' 'lords' 'pipers' 'drummers']\n"
     ]
    }
   ],
   "source": [
    "# Should work\n",
    "print(pluralize_gift(\"Goose\"))\n",
    "print(pluralize_gift(xmas['Gift.Item']))"
   ]
  },
  {
   "cell_type": "code",
   "execution_count": 5,
   "metadata": {
    "id": "IMqMzj4hUW8X"
   },
   "outputs": [],
   "source": [
    "def add_whitespace(string): #adding whitespace if there is a value else returns value.\n",
    "    if string:\n",
    "        return ' ' + string\n",
    "    else:\n",
    "        return string"
   ]
  },
  {
   "cell_type": "code",
   "execution_count": 6,
   "metadata": {
    "id": "nGhdWTAmTTMV"
   },
   "outputs": [],
   "source": [
    "def make_phrase(num, num_word, verb, item, adjective, location):\n",
    "  verb = verb.fillna('')  #fillna detects na and fills value with empty string\n",
    "  verb = verb.str.strip() #strip removes whitespace start and end of string\n",
    "  adjective = adjective.fillna('')\n",
    "  adjective = adjective.str.strip()\n",
    "  location = location.fillna('')\n",
    "  location = location.str.strip()\n",
    "  item = item.str.strip()\n",
    "\n",
    "  more_than_one_day = num > 1\n",
    "  first_day = num == 1\n",
    "  vowels = ('a', 'e', 'i', 'o', 'u')\n",
    "\n",
    "  number_mappings = {1: 'a',2: 'two', 3: 'three', 4: 'four',\n",
    "                      5: 'five', 6: 'six', 7: 'seven',\n",
    "                      8: 'eight', 9: 'nine', 10: 'ten',\n",
    "                      11: 'eleven', 12: 'twelve'} #mapping for each number\n",
    "  num = num.map(number_mappings)\n",
    "  first_day_str = num == 'a'\n",
    "  item[more_than_one_day] = item.apply(pluralize_gift)\n",
    "  item_starting_with_vowels = item.str.startswith(vowels)\n",
    "  num[first_day_str & item_starting_with_vowels] = 'an'\n",
    "  verb = verb.apply(lambda x: add_whitespace(x)) #checking whitespaces for verb column\n",
    "  adjective = adjective.apply(lambda x: add_whitespace(x)) #checking whitespaces for adjective column\n",
    "  item = item.apply(lambda x: add_whitespace(x)) #checking whitespaces for item column\n",
    "  location = location.apply(lambda x: add_whitespace(x)) #checking whitespaces for location column\n",
    "  full_phrase = num + adjective + item + verb + location\n",
    "\n",
    "\n",
    "  return num, num_word, verb, item,  adjective, location, full_phrase #returns phrase in order"
   ]
  },
  {
   "cell_type": "code",
   "execution_count": 7,
   "metadata": {
    "id": "G2TXB92ETanu"
   },
   "outputs": [],
   "source": [
    "def sing_day(dataset, num, phrase_col):\n",
    "  \"\"\"\n",
    "  <documentation>\n",
    "  \"\"\"\n",
    "  num_word = dataset.loc[dataset['Day']== num, 'Day.in.Words'][num-1] #getting the data in column Day.in.Words from the row where the column day has the value of num\n",
    "  intro = \"On the \" + num_word + \" day of Christmas, my true love sent to me:\"\n",
    "  gifts = []\n",
    "  if num == 1:\n",
    "    gifts.append(\"\\n\"+ dataset[phrase_col][0].strip()+ \".\")\n",
    "    return intro +\"\".join(gifts)\n",
    "  for i in range(num-1, -1, -1): #conditions on how to append for each condition with mapping\n",
    "    if i == num-1:\n",
    "      gifts.append(\"\\n\"+ dataset[phrase_col][i].strip()+ \",\\n\")\n",
    "    elif i > 0 and i < num-1:\n",
    "      gifts.append(dataset[phrase_col][i].strip() + \",\\n\")\n",
    "    elif i == 0:\n",
    "      gifts.append(\"and \"+dataset[phrase_col][i].strip()+\".\")\n",
    "\n",
    "  return intro +\"\".join(gifts)"
   ]
  },
  {
   "cell_type": "code",
   "execution_count": 8,
   "metadata": {
    "id": "viPwIIRkTdj2"
   },
   "outputs": [],
   "source": [
    "xmas['Day1'], xmas['Day.in.Words'], xmas['Verb'], xmas['Gift.Item'],  xmas['Adjective'], xmas['Location'], xmas['Full.Phrase'] = make_phrase(xmas['Day'], xmas['Day.in.Words'], xmas['Verb'], xmas['Gift.Item'],  xmas['Adjective'], xmas['Location'])"
   ]
  },
  {
   "cell_type": "code",
   "execution_count": 9,
   "metadata": {
    "colab": {
     "base_uri": "https://localhost:8080/"
    },
    "id": "xOQ0s-RsTf9g",
    "outputId": "12078daa-595e-4e0a-d5cf-b300fde14026"
   },
   "outputs": [
    {
     "name": "stdout",
     "output_type": "stream",
     "text": [
      "On the third day of Christmas, my true love sent to me:\n",
      "three french hens,\n",
      "two turtle doves,\n",
      "and a partridge in a pear tree.\n"
     ]
    }
   ],
   "source": [
    "print(sing_day(xmas, 3, \"Full.Phrase\")) #testing one condition"
   ]
  },
  {
   "cell_type": "code",
   "execution_count": 10,
   "metadata": {
    "colab": {
     "base_uri": "https://localhost:8080/"
    },
    "id": "rmzdoxdVyo-r",
    "outputId": "426d5d1d-1436-4f2f-bf10-598b653f81cb"
   },
   "outputs": [
    {
     "name": "stdout",
     "output_type": "stream",
     "text": [
      "On the first day of Christmas, my true love sent to me:\n",
      "a partridge in a pear tree.\n",
      "\n",
      "On the second day of Christmas, my true love sent to me:\n",
      "two turtle doves,\n",
      "and a partridge in a pear tree.\n",
      "\n",
      "On the third day of Christmas, my true love sent to me:\n",
      "three french hens,\n",
      "two turtle doves,\n",
      "and a partridge in a pear tree.\n",
      "\n",
      "On the fourth day of Christmas, my true love sent to me:\n",
      "four calling birds,\n",
      "three french hens,\n",
      "two turtle doves,\n",
      "and a partridge in a pear tree.\n",
      "\n",
      "On the fifth day of Christmas, my true love sent to me:\n",
      "five golden rings,\n",
      "four calling birds,\n",
      "three french hens,\n",
      "two turtle doves,\n",
      "and a partridge in a pear tree.\n",
      "\n",
      "On the sixth day of Christmas, my true love sent to me:\n",
      "six geese a-laying,\n",
      "five golden rings,\n",
      "four calling birds,\n",
      "three french hens,\n",
      "two turtle doves,\n",
      "and a partridge in a pear tree.\n",
      "\n",
      "On the seventh day of Christmas, my true love sent to me:\n",
      "seven swans a-swimming,\n",
      "six geese a-laying,\n",
      "five golden rings,\n",
      "four calling birds,\n",
      "three french hens,\n",
      "two turtle doves,\n",
      "and a partridge in a pear tree.\n",
      "\n",
      "On the eighth day of Christmas, my true love sent to me:\n",
      "eight maids a-milking,\n",
      "seven swans a-swimming,\n",
      "six geese a-laying,\n",
      "five golden rings,\n",
      "four calling birds,\n",
      "three french hens,\n",
      "two turtle doves,\n",
      "and a partridge in a pear tree.\n",
      "\n",
      "On the ninth day of Christmas, my true love sent to me:\n",
      "nine ladies dancing,\n",
      "eight maids a-milking,\n",
      "seven swans a-swimming,\n",
      "six geese a-laying,\n",
      "five golden rings,\n",
      "four calling birds,\n",
      "three french hens,\n",
      "two turtle doves,\n",
      "and a partridge in a pear tree.\n",
      "\n",
      "On the tenth day of Christmas, my true love sent to me:\n",
      "ten lords a-leaping,\n",
      "nine ladies dancing,\n",
      "eight maids a-milking,\n",
      "seven swans a-swimming,\n",
      "six geese a-laying,\n",
      "five golden rings,\n",
      "four calling birds,\n",
      "three french hens,\n",
      "two turtle doves,\n",
      "and a partridge in a pear tree.\n",
      "\n",
      "On the eleventh day of Christmas, my true love sent to me:\n",
      "eleven pipers piping,\n",
      "ten lords a-leaping,\n",
      "nine ladies dancing,\n",
      "eight maids a-milking,\n",
      "seven swans a-swimming,\n",
      "six geese a-laying,\n",
      "five golden rings,\n",
      "four calling birds,\n",
      "three french hens,\n",
      "two turtle doves,\n",
      "and a partridge in a pear tree.\n",
      "\n",
      "On the twelfth day of Christmas, my true love sent to me:\n",
      "twelve drummers drumming,\n",
      "eleven pipers piping,\n",
      "ten lords a-leaping,\n",
      "nine ladies dancing,\n",
      "eight maids a-milking,\n",
      "seven swans a-swimming,\n",
      "six geese a-laying,\n",
      "five golden rings,\n",
      "four calling birds,\n",
      "three french hens,\n",
      "two turtle doves,\n",
      "and a partridge in a pear tree.\n"
     ]
    }
   ],
   "source": [
    "result = list(map(lambda num: sing_day(xmas, num, \"Full.Phrase\"), [1,2,3,4,5,6,7,8,9,10,11,12] ))\n",
    "print(\"\\n\\n\".join(result))"
   ]
  },
  {
   "cell_type": "code",
   "execution_count": 11,
   "metadata": {
    "id": "FPhfzqs2Tln1"
   },
   "outputs": [],
   "source": [
    "xmas2 = pd.read_csv(\"https://www.dropbox.com/scl/fi/p9x9k8xwuzs9rhp582vfy/xmas_2.csv?rlkey=kvc3j3lmyn4opcidsrhcmrof1&dl=1\")"
   ]
  },
  {
   "cell_type": "code",
   "execution_count": 12,
   "metadata": {
    "colab": {
     "base_uri": "https://localhost:8080/",
     "height": 425
    },
    "id": "m2pA3XjnTn-9",
    "outputId": "793a11cc-203b-4db6-b19e-f1de3d3919f1"
   },
   "outputs": [
    {
     "data": {
      "text/html": [
       "<div>\n",
       "<style scoped>\n",
       "    .dataframe tbody tr th:only-of-type {\n",
       "        vertical-align: middle;\n",
       "    }\n",
       "\n",
       "    .dataframe tbody tr th {\n",
       "        vertical-align: top;\n",
       "    }\n",
       "\n",
       "    .dataframe thead th {\n",
       "        text-align: right;\n",
       "    }\n",
       "</style>\n",
       "<table border=\"1\" class=\"dataframe\">\n",
       "  <thead>\n",
       "    <tr style=\"text-align: right;\">\n",
       "      <th></th>\n",
       "      <th>Day</th>\n",
       "      <th>Day.in.Words</th>\n",
       "      <th>Gift.Item</th>\n",
       "      <th>Verb</th>\n",
       "      <th>Adjective</th>\n",
       "      <th>Location</th>\n",
       "      <th>Day1</th>\n",
       "      <th>Full.Phrase</th>\n",
       "    </tr>\n",
       "  </thead>\n",
       "  <tbody>\n",
       "    <tr>\n",
       "      <th>0</th>\n",
       "      <td>1</td>\n",
       "      <td>first</td>\n",
       "      <td>email</td>\n",
       "      <td></td>\n",
       "      <td></td>\n",
       "      <td>from Cal Poly</td>\n",
       "      <td>an</td>\n",
       "      <td>an email from Cal Poly</td>\n",
       "    </tr>\n",
       "    <tr>\n",
       "      <th>1</th>\n",
       "      <td>2</td>\n",
       "      <td>second</td>\n",
       "      <td>points</td>\n",
       "      <td></td>\n",
       "      <td>meal</td>\n",
       "      <td></td>\n",
       "      <td>two</td>\n",
       "      <td>two meal points</td>\n",
       "    </tr>\n",
       "    <tr>\n",
       "      <th>2</th>\n",
       "      <td>3</td>\n",
       "      <td>third</td>\n",
       "      <td>pens</td>\n",
       "      <td></td>\n",
       "      <td>lost</td>\n",
       "      <td></td>\n",
       "      <td>three</td>\n",
       "      <td>three lost pens</td>\n",
       "    </tr>\n",
       "    <tr>\n",
       "      <th>3</th>\n",
       "      <td>4</td>\n",
       "      <td>fourth</td>\n",
       "      <td>reviews</td>\n",
       "      <td></td>\n",
       "      <td>course</td>\n",
       "      <td></td>\n",
       "      <td>four</td>\n",
       "      <td>four course reviews</td>\n",
       "    </tr>\n",
       "    <tr>\n",
       "      <th>4</th>\n",
       "      <td>5</td>\n",
       "      <td>fifth</td>\n",
       "      <td>exams</td>\n",
       "      <td></td>\n",
       "      <td>practice</td>\n",
       "      <td></td>\n",
       "      <td>five</td>\n",
       "      <td>five practice exams</td>\n",
       "    </tr>\n",
       "    <tr>\n",
       "      <th>5</th>\n",
       "      <td>6</td>\n",
       "      <td>sixth</td>\n",
       "      <td>graders</td>\n",
       "      <td>grading</td>\n",
       "      <td></td>\n",
       "      <td></td>\n",
       "      <td>six</td>\n",
       "      <td>six graders grading</td>\n",
       "    </tr>\n",
       "    <tr>\n",
       "      <th>6</th>\n",
       "      <td>7</td>\n",
       "      <td>seventh</td>\n",
       "      <td>seniors</td>\n",
       "      <td>stressing</td>\n",
       "      <td></td>\n",
       "      <td></td>\n",
       "      <td>seven</td>\n",
       "      <td>seven seniors stressing</td>\n",
       "    </tr>\n",
       "    <tr>\n",
       "      <th>7</th>\n",
       "      <td>8</td>\n",
       "      <td>eighth</td>\n",
       "      <td>moms</td>\n",
       "      <td>a-calling</td>\n",
       "      <td></td>\n",
       "      <td></td>\n",
       "      <td>eight</td>\n",
       "      <td>eight moms a-calling</td>\n",
       "    </tr>\n",
       "    <tr>\n",
       "      <th>8</th>\n",
       "      <td>9</td>\n",
       "      <td>ninth</td>\n",
       "      <td>parties</td>\n",
       "      <td>bumping</td>\n",
       "      <td></td>\n",
       "      <td></td>\n",
       "      <td>nine</td>\n",
       "      <td>nine parties bumping</td>\n",
       "    </tr>\n",
       "    <tr>\n",
       "      <th>9</th>\n",
       "      <td>10</td>\n",
       "      <td>tenth</td>\n",
       "      <td>loads</td>\n",
       "      <td>of laundry</td>\n",
       "      <td></td>\n",
       "      <td></td>\n",
       "      <td>ten</td>\n",
       "      <td>ten loads of laundry</td>\n",
       "    </tr>\n",
       "    <tr>\n",
       "      <th>10</th>\n",
       "      <td>11</td>\n",
       "      <td>eleventh</td>\n",
       "      <td>friends</td>\n",
       "      <td>goodbye-ing</td>\n",
       "      <td></td>\n",
       "      <td></td>\n",
       "      <td>eleven</td>\n",
       "      <td>eleven friends goodbye-ing</td>\n",
       "    </tr>\n",
       "    <tr>\n",
       "      <th>11</th>\n",
       "      <td>12</td>\n",
       "      <td>twelfth</td>\n",
       "      <td>hours</td>\n",
       "      <td>sleeping</td>\n",
       "      <td></td>\n",
       "      <td></td>\n",
       "      <td>twelve</td>\n",
       "      <td>twelve hours sleeping</td>\n",
       "    </tr>\n",
       "  </tbody>\n",
       "</table>\n",
       "</div>"
      ],
      "text/plain": [
       "    Day Day.in.Words Gift.Item          Verb  Adjective        Location  \\\n",
       "0     1        first     email                            from Cal Poly   \n",
       "1     2       second    points                     meal                   \n",
       "2     3        third      pens                     lost                   \n",
       "3     4       fourth   reviews                   course                   \n",
       "4     5        fifth     exams                 practice                   \n",
       "5     6        sixth   graders       grading                              \n",
       "6     7      seventh   seniors     stressing                              \n",
       "7     8       eighth      moms     a-calling                              \n",
       "8     9        ninth   parties       bumping                              \n",
       "9    10        tenth     loads    of laundry                              \n",
       "10   11     eleventh   friends   goodbye-ing                              \n",
       "11   12      twelfth     hours      sleeping                              \n",
       "\n",
       "      Day1                 Full.Phrase  \n",
       "0       an      an email from Cal Poly  \n",
       "1      two             two meal points  \n",
       "2    three             three lost pens  \n",
       "3     four         four course reviews  \n",
       "4     five         five practice exams  \n",
       "5      six         six graders grading  \n",
       "6    seven     seven seniors stressing  \n",
       "7    eight        eight moms a-calling  \n",
       "8     nine        nine parties bumping  \n",
       "9      ten        ten loads of laundry  \n",
       "10  eleven  eleven friends goodbye-ing  \n",
       "11  twelve       twelve hours sleeping  "
      ]
     },
     "execution_count": 12,
     "metadata": {},
     "output_type": "execute_result"
    }
   ],
   "source": [
    "xmas2['Day1'], xmas2['Day.in.Words'], xmas2['Verb'], xmas2['Gift.Item'], xmas2['Adjective'], xmas2['Location'], xmas2['Full.Phrase'] = make_phrase(xmas2['Day'], xmas2['Day.in.Words'], xmas2['Verb'], xmas2['Gift.Item'],  xmas2['Adjective'], xmas2['Location'])\n",
    "xmas2 #checking out new dataset and appending using previous functions"
   ]
  },
  {
   "cell_type": "code",
   "execution_count": 13,
   "metadata": {
    "colab": {
     "base_uri": "https://localhost:8080/"
    },
    "id": "mkG94k8wTqEr",
    "outputId": "3b8ece14-0a0e-4858-d636-436536a806a0"
   },
   "outputs": [
    {
     "name": "stdout",
     "output_type": "stream",
     "text": [
      "On the first day of Christmas, my true love sent to me:\n",
      "an email from Cal Poly.\n"
     ]
    }
   ],
   "source": [
    "print(sing_day(xmas2, 1, \"Full.Phrase\")) #printing new song"
   ]
  },
  {
   "cell_type": "code",
   "execution_count": 14,
   "metadata": {
    "colab": {
     "base_uri": "https://localhost:8080/"
    },
    "id": "H7MZDULmTquz",
    "outputId": "155e5ec3-aea7-4c9c-dc17-c0f9aa3ce838"
   },
   "outputs": [
    {
     "name": "stdout",
     "output_type": "stream",
     "text": [
      "On the first day of Christmas, my true love sent to me:\n",
      "an email from Cal Poly.\n",
      "\n",
      "On the second day of Christmas, my true love sent to me:\n",
      "two meal points,\n",
      "and an email from Cal Poly.\n",
      "\n",
      "On the third day of Christmas, my true love sent to me:\n",
      "three lost pens,\n",
      "two meal points,\n",
      "and an email from Cal Poly.\n",
      "\n",
      "On the fourth day of Christmas, my true love sent to me:\n",
      "four course reviews,\n",
      "three lost pens,\n",
      "two meal points,\n",
      "and an email from Cal Poly.\n",
      "\n",
      "On the fifth day of Christmas, my true love sent to me:\n",
      "five practice exams,\n",
      "four course reviews,\n",
      "three lost pens,\n",
      "two meal points,\n",
      "and an email from Cal Poly.\n",
      "\n",
      "On the sixth day of Christmas, my true love sent to me:\n",
      "six graders grading,\n",
      "five practice exams,\n",
      "four course reviews,\n",
      "three lost pens,\n",
      "two meal points,\n",
      "and an email from Cal Poly.\n",
      "\n",
      "On the seventh day of Christmas, my true love sent to me:\n",
      "seven seniors stressing,\n",
      "six graders grading,\n",
      "five practice exams,\n",
      "four course reviews,\n",
      "three lost pens,\n",
      "two meal points,\n",
      "and an email from Cal Poly.\n",
      "\n",
      "On the eighth day of Christmas, my true love sent to me:\n",
      "eight moms a-calling,\n",
      "seven seniors stressing,\n",
      "six graders grading,\n",
      "five practice exams,\n",
      "four course reviews,\n",
      "three lost pens,\n",
      "two meal points,\n",
      "and an email from Cal Poly.\n",
      "\n",
      "On the ninth day of Christmas, my true love sent to me:\n",
      "nine parties bumping,\n",
      "eight moms a-calling,\n",
      "seven seniors stressing,\n",
      "six graders grading,\n",
      "five practice exams,\n",
      "four course reviews,\n",
      "three lost pens,\n",
      "two meal points,\n",
      "and an email from Cal Poly.\n",
      "\n",
      "On the tenth day of Christmas, my true love sent to me:\n",
      "ten loads of laundry,\n",
      "nine parties bumping,\n",
      "eight moms a-calling,\n",
      "seven seniors stressing,\n",
      "six graders grading,\n",
      "five practice exams,\n",
      "four course reviews,\n",
      "three lost pens,\n",
      "two meal points,\n",
      "and an email from Cal Poly.\n",
      "\n",
      "On the eleventh day of Christmas, my true love sent to me:\n",
      "eleven friends goodbye-ing,\n",
      "ten loads of laundry,\n",
      "nine parties bumping,\n",
      "eight moms a-calling,\n",
      "seven seniors stressing,\n",
      "six graders grading,\n",
      "five practice exams,\n",
      "four course reviews,\n",
      "three lost pens,\n",
      "two meal points,\n",
      "and an email from Cal Poly.\n",
      "\n",
      "On the twelfth day of Christmas, my true love sent to me:\n",
      "twelve hours sleeping,\n",
      "eleven friends goodbye-ing,\n",
      "ten loads of laundry,\n",
      "nine parties bumping,\n",
      "eight moms a-calling,\n",
      "seven seniors stressing,\n",
      "six graders grading,\n",
      "five practice exams,\n",
      "four course reviews,\n",
      "three lost pens,\n",
      "two meal points,\n",
      "and an email from Cal Poly.\n"
     ]
    }
   ],
   "source": [
    "result = list(map(lambda num: sing_day(xmas2, num, \"Full.Phrase\"), [1,2,3,4,5,6,7,8,9,10,11,12] ))\n",
    "print(\"\\n\\n\".join(result))"
   ]
  }
 ],
 "metadata": {
  "accelerator": "TPU",
  "colab": {
   "provenance": []
  },
  "kernelspec": {
   "display_name": "Python 3 (ipykernel)",
   "language": "python",
   "name": "python3"
  },
  "language_info": {
   "codemirror_mode": {
    "name": "ipython",
    "version": 3
   },
   "file_extension": ".py",
   "mimetype": "text/x-python",
   "name": "python",
   "nbconvert_exporter": "python",
   "pygments_lexer": "ipython3",
   "version": "3.11.4"
  }
 },
 "nbformat": 4,
 "nbformat_minor": 1
}
