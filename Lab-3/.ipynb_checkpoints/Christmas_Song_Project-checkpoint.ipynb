{
 "cells": [
  {
   "cell_type": "code",
   "execution_count": 6,
   "metadata": {},
   "outputs": [
    {
     "ename": "SyntaxError",
     "evalue": "invalid syntax (488899470.py, line 1)",
     "output_type": "error",
     "traceback": [
      "\u001b[1;36m  Cell \u001b[1;32mIn[6], line 1\u001b[1;36m\u001b[0m\n\u001b[1;33m    ---\u001b[0m\n\u001b[1;37m       ^\u001b[0m\n\u001b[1;31mSyntaxError\u001b[0m\u001b[1;31m:\u001b[0m invalid syntax\n"
     ]
    }
   ],
   "source": [
    "---\n",
    "self-contained: true\n",
    "---"
   ]
  },
  {
   "cell_type": "code",
   "execution_count": 5,
   "metadata": {
    "id": "pxdak1NxKseb"
   },
   "outputs": [],
   "source": [
    "import pandas as pd\n",
    "import numpy as np\n",
    "from numpy.core import numerictypes\n",
    "xmas = pd.read_csv(\"https://www.dropbox.com/scl/fi/qxaslqqp5p08i1650rpc4/xmas.csv?rlkey=erdxi7jbh7pqf9fh4lv4cayp5&dl=1\")"
   ]
  },
  {
   "cell_type": "code",
   "execution_count": null,
   "metadata": {
    "id": "QFZ3Sb2-TM8e"
   },
   "outputs": [],
   "source": [
    "def pluralize_gift(gift):\n",
    "  if 'oo' in gift:\n",
    "    gift = gift.replace('oo', 'ee') #conditions for the endings of strings\n",
    "  elif gift[-1] == 'y':\n",
    "    gift = gift.replace('y', 'ies')\n",
    "  else:\n",
    "    gift += 's'\n",
    "  return gift"
   ]
  },
  {
   "cell_type": "code",
   "execution_count": null,
   "metadata": {
    "id": "V1xnxleuTOgc"
   },
   "outputs": [],
   "source": [
    "pluralize_gift = np.vectorize(pluralize_gift) #vectorizing"
   ]
  },
  {
   "cell_type": "code",
   "execution_count": null,
   "metadata": {
    "colab": {
     "base_uri": "https://localhost:8080/"
    },
    "id": "xs-HybcdTQ6b",
    "outputId": "68aebdd6-8c17-4938-8117-c74e57b1d8e7"
   },
   "outputs": [],
   "source": [
    "# Should work\n",
    "print(pluralize_gift(\"Goose\"))\n",
    "print(pluralize_gift(xmas['Gift.Item']))"
   ]
  },
  {
   "cell_type": "code",
   "execution_count": null,
   "metadata": {
    "id": "IMqMzj4hUW8X"
   },
   "outputs": [],
   "source": [
    "def add_whitespace(string): #adding whitespace if there is a value else returns value.\n",
    "    if string:\n",
    "        return ' ' + string\n",
    "    else:\n",
    "        return string"
   ]
  },
  {
   "cell_type": "code",
   "execution_count": null,
   "metadata": {
    "id": "nGhdWTAmTTMV"
   },
   "outputs": [],
   "source": [
    "def make_phrase(num, num_word, verb, item, adjective, location):\n",
    "  verb = verb.fillna('')  #fillna detects na and fills value with empty string\n",
    "  verb = verb.str.strip() #strip removes whitespace start and end of string\n",
    "  adjective = adjective.fillna('')\n",
    "  adjective = adjective.str.strip()\n",
    "  location = location.fillna('')\n",
    "  location = location.str.strip()\n",
    "  item = item.str.strip()\n",
    "\n",
    "  more_than_one_day = num > 1\n",
    "  first_day = num == 1\n",
    "  vowels = ('a', 'e', 'i', 'o', 'u')\n",
    "\n",
    "  number_mappings = {1: 'a',2: 'two', 3: 'three', 4: 'four',\n",
    "                      5: 'five', 6: 'six', 7: 'seven',\n",
    "                      8: 'eight', 9: 'nine', 10: 'ten',\n",
    "                      11: 'eleven', 12: 'twelve'} #mapping for each number\n",
    "  num = num.map(number_mappings)\n",
    "  first_day_str = num == 'a'\n",
    "  item[more_than_one_day] = item.apply(pluralize_gift)\n",
    "  item_starting_with_vowels = item.str.startswith(vowels)\n",
    "  num[first_day_str & item_starting_with_vowels] = 'an'\n",
    "  verb = verb.apply(lambda x: add_whitespace(x)) #checking whitespaces for verb column\n",
    "  adjective = adjective.apply(lambda x: add_whitespace(x)) #checking whitespaces for adjective column\n",
    "  item = item.apply(lambda x: add_whitespace(x)) #checking whitespaces for item column\n",
    "  location = location.apply(lambda x: add_whitespace(x)) #checking whitespaces for location column\n",
    "  full_phrase = num + adjective + item + verb + location\n",
    "\n",
    "\n",
    "  return num, num_word, verb, item,  adjective, location, full_phrase #returns phrase in order"
   ]
  },
  {
   "cell_type": "code",
   "execution_count": null,
   "metadata": {
    "id": "G2TXB92ETanu"
   },
   "outputs": [],
   "source": [
    "def sing_day(dataset, num, phrase_col):\n",
    "  \"\"\"\n",
    "  <documentation>\n",
    "  \"\"\"\n",
    "  num_word = dataset.loc[dataset['Day']== num, 'Day.in.Words'][num-1] #getting the data in column Day.in.Words from the row where the column day has the value of num\n",
    "  intro = \"On the \" + num_word + \" day of Christmas, my true love sent to me:\"\n",
    "  gifts = []\n",
    "  if num == 1:\n",
    "    gifts.append(\"\\n\"+ dataset[phrase_col][0].strip()+ \".\")\n",
    "    return intro +\"\".join(gifts)\n",
    "  for i in range(num-1, -1, -1): #conditions on how to append for each condition with mapping\n",
    "    if i == num-1:\n",
    "      gifts.append(\"\\n\"+ dataset[phrase_col][i].strip()+ \",\\n\")\n",
    "    elif i > 0 and i < num-1:\n",
    "      gifts.append(dataset[phrase_col][i].strip() + \",\\n\")\n",
    "    elif i == 0:\n",
    "      gifts.append(\"and \"+dataset[phrase_col][i].strip()+\".\")\n",
    "\n",
    "  return intro +\"\".join(gifts)"
   ]
  },
  {
   "cell_type": "code",
   "execution_count": null,
   "metadata": {
    "id": "viPwIIRkTdj2"
   },
   "outputs": [],
   "source": [
    "xmas['Day1'], xmas['Day.in.Words'], xmas['Verb'], xmas['Gift.Item'],  xmas['Adjective'], xmas['Location'], xmas['Full.Phrase'] = make_phrase(xmas['Day'], xmas['Day.in.Words'], xmas['Verb'], xmas['Gift.Item'],  xmas['Adjective'], xmas['Location'])"
   ]
  },
  {
   "cell_type": "code",
   "execution_count": null,
   "metadata": {
    "colab": {
     "base_uri": "https://localhost:8080/"
    },
    "id": "xOQ0s-RsTf9g",
    "outputId": "53495209-4124-4291-a893-499a3d94bac7"
   },
   "outputs": [],
   "source": [
    "print(sing_day(xmas, 3, \"Full.Phrase\")) #testing one condition"
   ]
  },
  {
   "cell_type": "code",
   "execution_count": null,
   "metadata": {
    "colab": {
     "base_uri": "https://localhost:8080/"
    },
    "id": "Vy8UKEO6TiLX",
    "outputId": "d3cb93b2-34b8-4406-af6b-91caed6b18a7"
   },
   "outputs": [],
   "source": [
    "for i in range(1,13):\n",
    "  print(sing_day(xmas, i, \"Full.Phrase\")) #printing the full song with grammer and proper format\n",
    "  print(\"\\n\")"
   ]
  },
  {
   "cell_type": "code",
   "execution_count": null,
   "metadata": {
    "id": "FPhfzqs2Tln1"
   },
   "outputs": [],
   "source": [
    "xmas2 = pd.read_csv(\"https://www.dropbox.com/scl/fi/p9x9k8xwuzs9rhp582vfy/xmas_2.csv?rlkey=kvc3j3lmyn4opcidsrhcmrof1&dl=1\")"
   ]
  },
  {
   "cell_type": "code",
   "execution_count": null,
   "metadata": {
    "colab": {
     "base_uri": "https://localhost:8080/",
     "height": 425
    },
    "id": "m2pA3XjnTn-9",
    "outputId": "fd9f0f7a-d682-4849-c0be-2e3fe158a6fe"
   },
   "outputs": [],
   "source": [
    "xmas2['Day1'], xmas2['Day.in.Words'], xmas2['Verb'], xmas2['Gift.Item'], xmas2['Adjective'], xmas2['Location'], xmas2['Full.Phrase'] = make_phrase(xmas2['Day'], xmas2['Day.in.Words'], xmas2['Verb'], xmas2['Gift.Item'],  xmas2['Adjective'], xmas2['Location'])\n",
    "xmas2 #checking out new dataset and appending using previous functions"
   ]
  },
  {
   "cell_type": "code",
   "execution_count": null,
   "metadata": {
    "colab": {
     "base_uri": "https://localhost:8080/"
    },
    "id": "mkG94k8wTqEr",
    "outputId": "6485a9fa-3513-4777-d7b7-451d2c6128f1"
   },
   "outputs": [],
   "source": [
    "print(sing_day(xmas2, 1, \"Full.Phrase\")) #printing new song"
   ]
  },
  {
   "cell_type": "code",
   "execution_count": null,
   "metadata": {
    "colab": {
     "base_uri": "https://localhost:8080/"
    },
    "id": "H7MZDULmTquz",
    "outputId": "c7a4d642-cf8b-45e6-c402-6bf42211a49e"
   },
   "outputs": [],
   "source": [
    "for i in range(1,13):\n",
    "  print(sing_day(xmas2, i, \"Full.Phrase\"))\n",
    "  print(\"\\n\")"
   ]
  }
 ],
 "metadata": {
  "accelerator": "TPU",
  "colab": {
   "provenance": []
  },
  "kernelspec": {
   "display_name": "Python 3 (ipykernel)",
   "language": "python",
   "name": "python3"
  },
  "language_info": {
   "codemirror_mode": {
    "name": "ipython",
    "version": 3
   },
   "file_extension": ".py",
   "mimetype": "text/x-python",
   "name": "python",
   "nbconvert_exporter": "python",
   "pygments_lexer": "ipython3",
   "version": "3.11.4"
  }
 },
 "nbformat": 4,
 "nbformat_minor": 1
}
