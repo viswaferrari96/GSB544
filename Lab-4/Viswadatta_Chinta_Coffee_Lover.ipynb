{
 "cells": [
  {
   "cell_type": "raw",
   "metadata": {},
   "source": [
    "---\n",
    "self-contained: true\n",
    "title: \"Lab 4: Coffee Lovers\"\n",
    "author: \"Viswadatta Chinta\"\n",
    "date: 10/30/2023\n",
    "date-format: long\n",
    "format:\n",
    "    html:\n",
    "        mainfont: sans-serif;\n",
    "        theme: darkly\n",
    "---"
   ]
  },
  {
   "cell_type": "markdown",
   "metadata": {
    "id": "mrfuWkwVOwhu"
   },
   "source": [
    "1.Use the beautifulsoup library to scrape the data (from menuism.com like the link above) on state names and corresponding number of store locations, for the following chains:\n",
    "Starbucks\n",
    "\n",
    "Dunkin’ Donuts\n",
    "\n",
    "Peet’s Coffee & Tea\n",
    "\n",
    "Tim Horton’s\n",
    "\n",
    "Panera Bread\n",
    "\n",
    "Caribou Coffee\n",
    "\n",
    "Au Bon Pain\n",
    "\n",
    "The Coffee Bean & Tea Leaf\n",
    "\n",
    "McDonald’s"
   ]
  },
  {
   "cell_type": "code",
   "execution_count": 1,
   "metadata": {
    "id": "9EitrAftNPQQ"
   },
   "outputs": [],
   "source": [
    "from bs4 import BeautifulSoup\n",
    "import requests\n",
    "import re\n",
    "import pandas as pd"
   ]
  },
  {
   "cell_type": "code",
   "execution_count": 2,
   "metadata": {
    "colab": {
     "base_uri": "https://localhost:8080/"
    },
    "id": "O5dUnkpfOaIi",
    "outputId": "d3e27a12-18e2-470a-ed5c-d89dc3a393dc"
   },
   "outputs": [
    {
     "name": "stdout",
     "output_type": "stream",
     "text": [
      "Failed to retrieve the webpage. Status code: 502\n"
     ]
    }
   ],
   "source": [
    "########################################## Scrape Location Counts ###################################################\n",
    "\n",
    "response = requests.get('https://www.menuism.com/restaurant-locations/starbucks-coffee-39564')\n",
    "\n",
    "# Check if the request was successful\n",
    "if response.status_code == 200:\n",
    "    page_content = response.content\n",
    "else:\n",
    "    print(f\"Failed to retrieve the webpage. Status code: {response.status_code}\")\n"
   ]
  },
  {
   "cell_type": "code",
   "execution_count": 3,
   "metadata": {
    "id": "TMST4NTWO7Im"
   },
   "outputs": [
    {
     "ename": "NameError",
     "evalue": "name 'page_content' is not defined",
     "output_type": "error",
     "traceback": [
      "\u001b[1;31m---------------------------------------------------------------------------\u001b[0m",
      "\u001b[1;31mNameError\u001b[0m                                 Traceback (most recent call last)",
      "Cell \u001b[1;32mIn[3], line 1\u001b[0m\n\u001b[1;32m----> 1\u001b[0m soup \u001b[38;5;241m=\u001b[39m BeautifulSoup(page_content, \u001b[38;5;124m'\u001b[39m\u001b[38;5;124mhtml.parser\u001b[39m\u001b[38;5;124m'\u001b[39m)\n\u001b[0;32m      3\u001b[0m store_name \u001b[38;5;241m=\u001b[39m soup\u001b[38;5;241m.\u001b[39mfind(\u001b[38;5;124m'\u001b[39m\u001b[38;5;124mh1\u001b[39m\u001b[38;5;124m'\u001b[39m)\u001b[38;5;241m.\u001b[39mfind(\u001b[38;5;124m'\u001b[39m\u001b[38;5;124mspan\u001b[39m\u001b[38;5;124m'\u001b[39m, {\u001b[38;5;124m'\u001b[39m\u001b[38;5;124mitemprop\u001b[39m\u001b[38;5;124m'\u001b[39m: \u001b[38;5;124m'\u001b[39m\u001b[38;5;124mname\u001b[39m\u001b[38;5;124m'\u001b[39m})\u001b[38;5;241m.\u001b[39mtext\n\u001b[0;32m      4\u001b[0m a_titles \u001b[38;5;241m=\u001b[39m soup\u001b[38;5;241m.\u001b[39mfind_all(\u001b[38;5;124m'\u001b[39m\u001b[38;5;124ma\u001b[39m\u001b[38;5;124m'\u001b[39m, title \u001b[38;5;241m=\u001b[39m \u001b[38;5;28;01mlambda\u001b[39;00m title: title \u001b[38;5;129;01mand\u001b[39;00m title\u001b[38;5;241m.\u001b[39mendswith(\u001b[38;5;124m'\u001b[39m\u001b[38;5;124m, us\u001b[39m\u001b[38;5;124m'\u001b[39m))\n",
      "\u001b[1;31mNameError\u001b[0m: name 'page_content' is not defined"
     ]
    }
   ],
   "source": [
    "soup = BeautifulSoup(page_content, 'html.parser')\n",
    "\n",
    "store_name = soup.find('h1').find('span', {'itemprop': 'name'}).text\n",
    "a_titles = soup.find_all('a', title = lambda title: title and title.endswith(', us'))\n",
    "stores = {}\n",
    "states_map = {}\n",
    "for title in a_titles:\n",
    "    code = title.get('href')[-2:].upper()\n",
    "    splits = title.text.split(' ')\n",
    "    ignore_list = store_name.split(' ')\n",
    "    state = ' '.join(filter(lambda x : x not in ignore_list and x!='locations' and x[0]!='(', splits))\n",
    "    locations = splits[-1][1:-1]\n",
    "    stores[state] = locations\n",
    "    states_map[state] = code"
   ]
  },
  {
   "cell_type": "markdown",
   "metadata": {
    "id": "5WgdsjIzPfzi"
   },
   "source": [
    "A function stateabb() that takes a state name (assume it’s spelled correctly) and converts it to its state abbreviation."
   ]
  },
  {
   "cell_type": "code",
   "execution_count": 4,
   "metadata": {
    "id": "HdRUZzpmPBqi"
   },
   "outputs": [],
   "source": [
    "def stateabb(state):\n",
    "  if state == 'Mississippi':\n",
    "    return 'MS'\n",
    "  return states_map[state]"
   ]
  },
  {
   "cell_type": "markdown",
   "metadata": {
    "id": "OVKMP4ehu2FQ"
   },
   "source": [
    "Parsing, merging and tiding data so that I have a row for each state and two columns: state abbrevation, location count."
   ]
  },
  {
   "cell_type": "code",
   "execution_count": 5,
   "metadata": {
    "colab": {
     "base_uri": "https://localhost:8080/"
    },
    "id": "7pC3o-wNzvmp",
    "outputId": "a3330eb1-ebf8-47fe-ce6b-9e62d446ea67"
   },
   "outputs": [
    {
     "ename": "NameError",
     "evalue": "name 'stores' is not defined",
     "output_type": "error",
     "traceback": [
      "\u001b[1;31m---------------------------------------------------------------------------\u001b[0m",
      "\u001b[1;31mNameError\u001b[0m                                 Traceback (most recent call last)",
      "Cell \u001b[1;32mIn[5], line 1\u001b[0m\n\u001b[1;32m----> 1\u001b[0m stores_df \u001b[38;5;241m=\u001b[39m pd\u001b[38;5;241m.\u001b[39mDataFrame(\u001b[38;5;28mlist\u001b[39m(stores\u001b[38;5;241m.\u001b[39mitems()), columns\u001b[38;5;241m=\u001b[39m[\u001b[38;5;124m'\u001b[39m\u001b[38;5;124mState\u001b[39m\u001b[38;5;124m'\u001b[39m, \u001b[38;5;124m'\u001b[39m\u001b[38;5;124mLocations\u001b[39m\u001b[38;5;124m'\u001b[39m]) \u001b[38;5;66;03m# stores location numbers with the state abbreviations\u001b[39;00m\n\u001b[0;32m      2\u001b[0m stores_df[\u001b[38;5;124m'\u001b[39m\u001b[38;5;124mState\u001b[39m\u001b[38;5;124m'\u001b[39m] \u001b[38;5;241m=\u001b[39m stores_df[\u001b[38;5;124m'\u001b[39m\u001b[38;5;124mState\u001b[39m\u001b[38;5;124m'\u001b[39m]\u001b[38;5;241m.\u001b[39mapply(stateabb)\n\u001b[0;32m      3\u001b[0m \u001b[38;5;28mprint\u001b[39m(\u001b[38;5;124m\"\u001b[39m\u001b[38;5;124mStore Name = \u001b[39m\u001b[38;5;124m\"\u001b[39m\u001b[38;5;241m+\u001b[39mstore_name)\n",
      "\u001b[1;31mNameError\u001b[0m: name 'stores' is not defined"
     ]
    }
   ],
   "source": [
    "stores_df = pd.DataFrame(list(stores.items()), columns=['State', 'Locations']) # stores location numbers with the state abbreviations\n",
    "stores_df['State'] = stores_df['State'].apply(stateabb)\n",
    "print(\"Store Name = \"+store_name)\n",
    "print(stores_df)"
   ]
  },
  {
   "cell_type": "markdown",
   "metadata": {
    "id": "dyRxrGoNvCHg"
   },
   "source": [
    "Scraping the state names and populations from wikipedia page. Converting the state names to abbreviations and merging the data with the coffee dataset."
   ]
  },
  {
   "cell_type": "code",
   "execution_count": 6,
   "metadata": {
    "id": "2Q9WSVMX0e99"
   },
   "outputs": [],
   "source": [
    "# Supplemental Data\n",
    "\n",
    "response = requests.get('https://simple.wikipedia.org/wiki/List_of_U.S._states_by_population')\n",
    "\n",
    "# Checking if the request was successful\n",
    "if response.status_code == 200:\n",
    "    page_content = response.content\n",
    "else:\n",
    "    print(f\"Failed to retrieve the webpage. Status code: {response.status_code}\")\n",
    "\n",
    "soup = BeautifulSoup(page_content, 'html.parser')\n",
    "table = soup.find('table')\n",
    "state_population = {}\n",
    "\n",
    "# Iterating through the rows to extract data from the second column\n",
    "for row in table.find_all('tr'):\n",
    "    columns = row.find_all('td')\n",
    "    if len(columns) > 0:  # Ensure there's at least a second column\n",
    "        state_population[columns[2].text.replace('\\xa0', '').replace('\\n', '')] = columns[3].text.replace('\\n', '')\n",
    "\n",
    "del state_population['Puerto Rico'] #filtering the non states\n",
    "del state_population['Guam']\n",
    "del state_population['U.S. Virgin Islands']\n",
    "del state_population['American Samoa']\n",
    "del state_population['Northern Mariana Islands']\n",
    "del state_population['Contiguous United States']\n",
    "del state_population['The fifty states']\n",
    "del state_population['Fifty states + D.C.']\n",
    "del state_population['Total U.S. (including D.C. and territories)']"
   ]
  },
  {
   "cell_type": "markdown",
   "metadata": {
    "id": "9LWCiQl3vrqR"
   },
   "source": [
    "Creating a region variable in my dataset according to the scheme on the wikipedia page: Northeast, Midwest, South, West."
   ]
  },
  {
   "cell_type": "code",
   "execution_count": 7,
   "metadata": {
    "id": "Wy0jAYQpN3vL"
   },
   "outputs": [],
   "source": [
    "def region(state):\n",
    "  ne = [\"Connecticut\", \"Maine\", \"Massachusetts\", \"New Hampshire\", \"Vermont\", \"Rhode Island\", \"New Jersey\", \"New York\", \"Pennsylvania\"]\n",
    "  mw = [\"Illinois\", \"Indiana\", \"Michigan\", \"Ohio\", \"Wisconsin\", \"Iowa\", \"Kansas\", \"Minnesota\", \"Missouri\", \"Nebraska\", \"North Dakota\", \"South Dakota\"]\n",
    "  w = [\"Arizona\", \"Colorado\", \"Idaho\", \"Montana\", \"Nevada\", \"New Mexico\", \"Utah\", \"Wyoming\", \"Alaska\", \"California\", \"Hawaii\", \"Oregon\", \"Washington\"]\n",
    "  if state in ne:\n",
    "    return \"Northeast\"\n",
    "  if state in mw:\n",
    "    return \"Midwest\"\n",
    "  if state in w:\n",
    "    return \"West\"\n",
    "  return \"South\"\n",
    "\n"
   ]
  },
  {
   "cell_type": "code",
   "execution_count": 8,
   "metadata": {
    "id": "p8B6-tTxOG0A"
   },
   "outputs": [
    {
     "ename": "NameError",
     "evalue": "name 'states_map' is not defined",
     "output_type": "error",
     "traceback": [
      "\u001b[1;31m---------------------------------------------------------------------------\u001b[0m",
      "\u001b[1;31mNameError\u001b[0m                                 Traceback (most recent call last)",
      "Cell \u001b[1;32mIn[8], line 5\u001b[0m\n\u001b[0;32m      3\u001b[0m populations_df[\u001b[38;5;124m'\u001b[39m\u001b[38;5;124mregion\u001b[39m\u001b[38;5;124m'\u001b[39m] \u001b[38;5;241m=\u001b[39m populations_df[\u001b[38;5;124m'\u001b[39m\u001b[38;5;124mState\u001b[39m\u001b[38;5;124m'\u001b[39m]\u001b[38;5;241m.\u001b[39mapply(region)\n\u001b[0;32m      4\u001b[0m populations_df[\u001b[38;5;124m'\u001b[39m\u001b[38;5;124mState\u001b[39m\u001b[38;5;124m'\u001b[39m] \u001b[38;5;241m=\u001b[39m populations_df[\u001b[38;5;124m'\u001b[39m\u001b[38;5;124mState\u001b[39m\u001b[38;5;124m'\u001b[39m]\u001b[38;5;241m.\u001b[39mstr\u001b[38;5;241m.\u001b[39mstrip()\n\u001b[1;32m----> 5\u001b[0m populations_df[\u001b[38;5;124m'\u001b[39m\u001b[38;5;124mState\u001b[39m\u001b[38;5;124m'\u001b[39m] \u001b[38;5;241m=\u001b[39m populations_df[\u001b[38;5;124m'\u001b[39m\u001b[38;5;124mState\u001b[39m\u001b[38;5;124m'\u001b[39m]\u001b[38;5;241m.\u001b[39mmap(states_map)\n\u001b[0;32m      6\u001b[0m result_df \u001b[38;5;241m=\u001b[39m pd\u001b[38;5;241m.\u001b[39mmerge(stores_df, populations_df, on\u001b[38;5;241m=\u001b[39m\u001b[38;5;124m'\u001b[39m\u001b[38;5;124mState\u001b[39m\u001b[38;5;124m'\u001b[39m, how\u001b[38;5;241m=\u001b[39m\u001b[38;5;124m'\u001b[39m\u001b[38;5;124minner\u001b[39m\u001b[38;5;124m'\u001b[39m)\n\u001b[0;32m      7\u001b[0m \u001b[38;5;28mprint\u001b[39m(result_df)\n",
      "\u001b[1;31mNameError\u001b[0m: name 'states_map' is not defined"
     ]
    }
   ],
   "source": [
    "# Print the data from the second column\n",
    "populations_df = pd.DataFrame(list(state_population.items()), columns=['State', 'Population'])\n",
    "populations_df['region'] = populations_df['State'].apply(region)\n",
    "populations_df['State'] = populations_df['State'].str.strip()\n",
    "populations_df['State'] = populations_df['State'].map(states_map)\n",
    "result_df = pd.merge(stores_df, populations_df, on='State', how='inner')\n",
    "print(result_df)"
   ]
  },
  {
   "cell_type": "markdown",
   "metadata": {
    "id": "Hh38bmZPv8UQ"
   },
   "source": [
    "Automating the functions to automate all functions so that it take just a URL to data scrape and give a cleaned out data."
   ]
  },
  {
   "cell_type": "code",
   "execution_count": 16,
   "metadata": {
    "id": "kt2kegvYzrTU"
   },
   "outputs": [],
   "source": [
    "# Automate\n",
    "store_urls = ('https://www.menuism.com/restaurant-locations/starbucks-coffee-39564',\n",
    "              'https://www.menuism.com/restaurant-locations/dunkin-donuts-181624',\n",
    "              'https://www.menuism.com/restaurant-locations/peets-coffee-tea-84051',\n",
    "              'https://www.menuism.com/restaurant-locations/tim-hortons-190025',\n",
    "              'https://www.menuism.com/restaurant-locations/panera-bread-4258',\n",
    "              'https://www.menuism.com/restaurant-locations/caribou-coffee-164861',\n",
    "              'https://www.menuism.com/restaurant-locations/au-bon-pain-69342',\n",
    "              'https://www.menuism.com/restaurant-locations/the-coffee-bean-tea-leaf-165988',\n",
    "              'https://www.menuism.com/restaurant-locations/mcdonalds-21019')\n",
    "\n",
    "def scrape_website(store_url):\n",
    "  response = requests.get(store_url)\n",
    "\n",
    "  if response.status_code == 200:\n",
    "      page_content = response.content\n",
    "  else:\n",
    "      print(f\"Error. Status code: {response.status_code}\")\n",
    "\n",
    "  soup = BeautifulSoup(page_content, 'html.parser')\n",
    "\n",
    "  store_name = soup.find('h1').find('span', {'itemprop': 'name'}).text\n",
    "  a_titles = soup.find_all('a', title = lambda title: title and title.endswith(', us'))\n",
    "  stores = {}\n",
    "  states_map = {}\n",
    "  for title in a_titles:\n",
    "      code = title.get('href')[-2:].upper()\n",
    "      splits = title.text.split(' ')\n",
    "      ignore_list = store_name.split(' ')\n",
    "      state = ' '.join(filter(lambda x : x not in ignore_list and x!='locations' and x[0]!='(', splits))\n",
    "      locations = splits[-1][1:-1]\n",
    "      stores[state] = locations\n",
    "      states_map[state] = code\n",
    "\n",
    "  def stateabb(state):\n",
    "    return states_map[state]\n",
    "\n",
    "  stores_df = pd.DataFrame(list(stores.items()), columns=['State', 'Locations'])\n",
    "  stores_df['State'] = stores_df['State'].apply(stateabb)\n",
    "  stores_df['Company'] = store_name\n",
    "  print(\"Store Name = \"+store_name)\n",
    "  print(stores_df)"
   ]
  },
  {
   "cell_type": "code",
   "execution_count": 10,
   "metadata": {
    "colab": {
     "base_uri": "https://localhost:8080/"
    },
    "id": "iUxV014L8luT",
    "outputId": "58eae393-0286-4dc6-92fe-dfec267931fa"
   },
   "outputs": [
    {
     "name": "stdout",
     "output_type": "stream",
     "text": [
      "Error. Status code: 502\n"
     ]
    },
    {
     "ename": "UnboundLocalError",
     "evalue": "cannot access local variable 'page_content' where it is not associated with a value",
     "output_type": "error",
     "traceback": [
      "\u001b[1;31m---------------------------------------------------------------------------\u001b[0m",
      "\u001b[1;31mUnboundLocalError\u001b[0m                         Traceback (most recent call last)",
      "Cell \u001b[1;32mIn[10], line 1\u001b[0m\n\u001b[1;32m----> 1\u001b[0m scrape_website(\u001b[38;5;124m'\u001b[39m\u001b[38;5;124mhttps://www.menuism.com/restaurant-locations/dunkin-donuts-181624\u001b[39m\u001b[38;5;124m'\u001b[39m)\n",
      "Cell \u001b[1;32mIn[9], line 20\u001b[0m, in \u001b[0;36mscrape_website\u001b[1;34m(store_url)\u001b[0m\n\u001b[0;32m     17\u001b[0m \u001b[38;5;28;01melse\u001b[39;00m:\n\u001b[0;32m     18\u001b[0m     \u001b[38;5;28mprint\u001b[39m(\u001b[38;5;124mf\u001b[39m\u001b[38;5;124m\"\u001b[39m\u001b[38;5;124mError. Status code: \u001b[39m\u001b[38;5;132;01m{\u001b[39;00mresponse\u001b[38;5;241m.\u001b[39mstatus_code\u001b[38;5;132;01m}\u001b[39;00m\u001b[38;5;124m\"\u001b[39m)\n\u001b[1;32m---> 20\u001b[0m soup \u001b[38;5;241m=\u001b[39m BeautifulSoup(page_content, \u001b[38;5;124m'\u001b[39m\u001b[38;5;124mhtml.parser\u001b[39m\u001b[38;5;124m'\u001b[39m)\n\u001b[0;32m     22\u001b[0m store_name \u001b[38;5;241m=\u001b[39m soup\u001b[38;5;241m.\u001b[39mfind(\u001b[38;5;124m'\u001b[39m\u001b[38;5;124mh1\u001b[39m\u001b[38;5;124m'\u001b[39m)\u001b[38;5;241m.\u001b[39mfind(\u001b[38;5;124m'\u001b[39m\u001b[38;5;124mspan\u001b[39m\u001b[38;5;124m'\u001b[39m, {\u001b[38;5;124m'\u001b[39m\u001b[38;5;124mitemprop\u001b[39m\u001b[38;5;124m'\u001b[39m: \u001b[38;5;124m'\u001b[39m\u001b[38;5;124mname\u001b[39m\u001b[38;5;124m'\u001b[39m})\u001b[38;5;241m.\u001b[39mtext\n\u001b[0;32m     23\u001b[0m a_titles \u001b[38;5;241m=\u001b[39m soup\u001b[38;5;241m.\u001b[39mfind_all(\u001b[38;5;124m'\u001b[39m\u001b[38;5;124ma\u001b[39m\u001b[38;5;124m'\u001b[39m, title \u001b[38;5;241m=\u001b[39m \u001b[38;5;28;01mlambda\u001b[39;00m title: title \u001b[38;5;129;01mand\u001b[39;00m title\u001b[38;5;241m.\u001b[39mendswith(\u001b[38;5;124m'\u001b[39m\u001b[38;5;124m, us\u001b[39m\u001b[38;5;124m'\u001b[39m))\n",
      "\u001b[1;31mUnboundLocalError\u001b[0m: cannot access local variable 'page_content' where it is not associated with a value"
     ]
    }
   ],
   "source": [
    "scrape_website('https://www.menuism.com/restaurant-locations/dunkin-donuts-181624') #testing the function with one link"
   ]
  },
  {
   "cell_type": "code",
   "execution_count": 17,
   "metadata": {
    "id": "ixWDLmJyM3lM"
   },
   "outputs": [],
   "source": [
    "url = \"Starbucks Coffee Locations Near Me + Reviews & Menu.html\" #Working with starbucks data\n",
    "page = open(url)\n",
    "soup1 = BeautifulSoup(page.read())"
   ]
  },
  {
   "cell_type": "code",
   "execution_count": 18,
   "metadata": {
    "id": "s9eG9jaQNVml"
   },
   "outputs": [],
   "source": [
    "def scrape_website(soup): #Modifying function to take in html as dataset to webscrape\n",
    "  # response = requests.get(store_url)\n",
    "\n",
    "  # if response.status_code == 200:\n",
    "  #     page_content = response.content\n",
    "  # else:\n",
    "  #     print(f\"Error. Status code: {response.status_code}\")\n",
    "\n",
    "  # soup = BeautifulSoup(soup1, 'html.parser')\n",
    "\n",
    "  store_name = soup.find('h1').find('span', {'itemprop': 'name'}).text\n",
    "  a_titles = soup.find_all('a', title = lambda title: title and title.endswith(', us'))\n",
    "  stores = {}\n",
    "  states_map = {}\n",
    "  for title in a_titles:\n",
    "      code = title.get('href')[-2:].upper()\n",
    "      splits = title.text.split(' ')\n",
    "      ignore_list = store_name.split(' ')\n",
    "      state = ' '.join(filter(lambda x : x not in ignore_list and x!='locations' and x[0]!='(', splits))\n",
    "      locations = splits[-1][1:-1]\n",
    "      stores[state] = locations\n",
    "      states_map[state] = code\n",
    "\n",
    "  def stateabb(state):\n",
    "    return states_map[state]\n",
    "\n",
    "  stores_df = pd.DataFrame(list(stores.items()), columns=['State', 'Locations'])\n",
    "  stores_df['State'] = stores_df['State'].apply(stateabb)\n",
    "  stores_df['Company'] = store_name\n",
    "  print(\"Store Name = \"+store_name)\n",
    "  print(stores_df)"
   ]
  },
  {
   "cell_type": "code",
   "execution_count": 11,
   "metadata": {
    "colab": {
     "base_uri": "https://localhost:8080/"
    },
    "id": "brZd5M8bNYdz",
    "outputId": "f3869f64-6ee4-4230-ad97-fe922f0d1601"
   },
   "outputs": [
    {
     "ename": "NameError",
     "evalue": "name 'soup1' is not defined",
     "output_type": "error",
     "traceback": [
      "\u001b[1;31m---------------------------------------------------------------------------\u001b[0m",
      "\u001b[1;31mNameError\u001b[0m                                 Traceback (most recent call last)",
      "Cell \u001b[1;32mIn[11], line 1\u001b[0m\n\u001b[1;32m----> 1\u001b[0m scrape_website(soup1)\n",
      "\u001b[1;31mNameError\u001b[0m: name 'soup1' is not defined"
     ]
    }
   ],
   "source": [
    "scrape_website(soup1)"
   ]
  },
  {
   "cell_type": "markdown",
   "metadata": {
    "id": "bZrks2lWNc1O"
   },
   "source": [
    "5.Find the revenue, stock price, or your financial metric of choice for each of the companies listed above (if you can find a website to scrape these from that’s great!…but it’s okay if you manually enter these into R). Merge these values into your big dataset. Note: these values may be repeated for each state."
   ]
  },
  {
   "cell_type": "code",
   "execution_count": 12,
   "metadata": {
    "colab": {
     "base_uri": "https://localhost:8080/"
    },
    "id": "mE1hy00SNdgG",
    "outputId": "31c0a022-2e24-4db3-c47c-da5779ebae30"
   },
   "outputs": [
    {
     "name": "stdout",
     "output_type": "stream",
     "text": [
      "{'symbol': 'SBUX', 'annualReports': [{'fiscalDateEnding': '2022-09-30', 'reportedCurrency': 'USD', 'grossProfit': '8371100000', 'totalRevenue': '32250300000', 'costOfRevenue': '23879200000', 'costofGoodsAndServicesSold': '23879200000', 'operatingIncome': '4617800000', 'sellingGeneralAndAdministrative': '2032000000', 'researchAndDevelopment': 'None', 'operatingExpenses': '3941400000', 'investmentIncomeNet': 'None', 'netInterestIncome': '-385900000', 'interestIncome': '97000000', 'interestExpense': '482900000', 'nonInterestIncome': 'None', 'otherNonOperatingIncome': '97000000', 'depreciation': 'None', 'depreciationAndAmortization': '1447900000', 'incomeBeforeTax': '4230100000', 'incomeTaxExpense': '948500000', 'interestAndDebtExpense': 'None', 'netIncomeFromContinuingOperations': '3283400000', 'comprehensiveIncomeNetOfTax': '2671200000', 'ebit': '4713000000', 'ebitda': '6160900000', 'netIncome': '3281600000'}, {'fiscalDateEnding': '2021-09-30', 'reportedCurrency': 'USD', 'grossProfit': '18221500000', 'totalRevenue': '29060600000', 'costOfRevenue': '10839100000', 'costofGoodsAndServicesSold': '20669600000', 'operatingIncome': '4872100000', 'sellingGeneralAndAdministrative': '2237700000', 'researchAndDevelopment': 'None', 'operatingExpenses': '3344800000', 'investmentIncomeNet': 'None', 'netInterestIncome': '-469800000', 'interestIncome': '90100000', 'interestExpense': '469800000', 'nonInterestIncome': '864500000', 'otherNonOperatingIncome': '954600000', 'depreciation': 'None', 'depreciationAndAmortization': '1441700000', 'incomeBeforeTax': '5355900000', 'incomeTaxExpense': '1156600000', 'interestAndDebtExpense': '469800000', 'netIncomeFromContinuingOperations': '4200300000', 'comprehensiveIncomeNetOfTax': '4711100000', 'ebit': '5825700000', 'ebitda': '7267400000', 'netIncome': '4199300000'}, {'fiscalDateEnding': '2020-09-30', 'reportedCurrency': 'USD', 'grossProfit': '13737700000', 'totalRevenue': '23518000000', 'costOfRevenue': '9780300000', 'costofGoodsAndServicesSold': '50000000', 'operatingIncome': '1561700000', 'sellingGeneralAndAdministrative': '1938400000', 'researchAndDevelopment': 'None', 'operatingExpenses': '3993800000', 'investmentIncomeNet': 'None', 'netInterestIncome': '-437000000', 'interestIncome': '39700000', 'interestExpense': '437000000', 'nonInterestIncome': '84900000', 'otherNonOperatingIncome': '39700000', 'depreciation': 'None', 'depreciationAndAmortization': '1431300000', 'incomeBeforeTax': '1168000000', 'incomeTaxExpense': '239700000', 'interestAndDebtExpense': '437000000', 'netIncomeFromContinuingOperations': '924700000', 'comprehensiveIncomeNetOfTax': '1062200000', 'ebit': '1605000000', 'ebitda': '3036300000', 'netIncome': '928300000'}, {'fiscalDateEnding': '2019-09-30', 'reportedCurrency': 'USD', 'grossProfit': '14398800000', 'totalRevenue': '26508600000', 'costOfRevenue': '12109800000', 'costofGoodsAndServicesSold': '8526900000', 'operatingIncome': '4077900000', 'sellingGeneralAndAdministrative': '2069800000', 'researchAndDevelopment': 'None', 'operatingExpenses': '3266500000', 'investmentIncomeNet': 'None', 'netInterestIncome': '-331000000', 'interestIncome': '96500000', 'interestExpense': '331000000', 'nonInterestIncome': '687400000', 'otherNonOperatingIncome': '719300000', 'depreciation': 'None', 'depreciationAndAmortization': '1377300000', 'incomeBeforeTax': '4470800000', 'incomeTaxExpense': '871600000', 'interestAndDebtExpense': '331000000', 'netIncomeFromContinuingOperations': '3594600000', 'comprehensiveIncomeNetOfTax': '3426200000', 'ebit': '4801800000', 'ebitda': '6179100000', 'netIncome': '3599200000'}, {'fiscalDateEnding': '2018-09-30', 'reportedCurrency': 'USD', 'grossProfit': '10973900000', 'totalRevenue': '24719500000', 'costOfRevenue': '13745600000', 'costofGoodsAndServicesSold': '7930700000', 'operatingIncome': '3883300000', 'sellingGeneralAndAdministrative': '2019300000', 'researchAndDevelopment': 'None', 'operatingExpenses': '3644000000', 'investmentIncomeNet': 'None', 'netInterestIncome': '-170300000', 'interestIncome': 'None', 'interestExpense': '170300000', 'nonInterestIncome': '466400000', 'otherNonOperatingIncome': 'None', 'depreciation': 'None', 'depreciationAndAmortization': '1247000000', 'incomeBeforeTax': '5780300000', 'incomeTaxExpense': '1262000000', 'interestAndDebtExpense': '170300000', 'netIncomeFromContinuingOperations': '4518000000', 'comprehensiveIncomeNetOfTax': '4343600000', 'ebit': '5950600000', 'ebitda': '7197600000', 'netIncome': '4518300000'}], 'quarterlyReports': [{'fiscalDateEnding': '2023-06-30', 'reportedCurrency': 'USD', 'grossProfit': '6029000000', 'totalRevenue': '9168300000', 'costOfRevenue': '3139300000', 'costofGoodsAndServicesSold': '6561800000', 'operatingIncome': '1583900000', 'sellingGeneralAndAdministrative': '604300000', 'researchAndDevelopment': 'None', 'operatingExpenses': '1092300000', 'investmentIncomeNet': 'None', 'netInterestIncome': '-140900000', 'interestIncome': '21300000', 'interestExpense': '140900000', 'nonInterestIncome': 'None', 'otherNonOperatingIncome': '21300000', 'depreciation': 'None', 'depreciationAndAmortization': '342200000', 'incomeBeforeTax': '1464100000', 'incomeTaxExpense': '322400000', 'interestAndDebtExpense': '140900000', 'netIncomeFromContinuingOperations': '1141900000', 'comprehensiveIncomeNetOfTax': '886500000', 'ebit': '1605000000', 'ebitda': '1947200000', 'netIncome': '1141700000'}, {'fiscalDateEnding': '2023-03-31', 'reportedCurrency': 'USD', 'grossProfit': '2282100000', 'totalRevenue': '8719800000', 'costOfRevenue': '6437700000', 'costofGoodsAndServicesSold': '6437700000', 'operatingIncome': '1327500000', 'sellingGeneralAndAdministrative': '620400000', 'researchAndDevelopment': 'None', 'operatingExpenses': '1088500000', 'investmentIncomeNet': 'None', 'netInterestIncome': '-117900000', 'interestIncome': '18400000', 'interestExpense': '136300000', 'nonInterestIncome': 'None', 'otherNonOperatingIncome': '18400000', 'depreciation': 'None', 'depreciationAndAmortization': '341900000', 'incomeBeforeTax': '1209600000', 'incomeTaxExpense': '301300000', 'interestAndDebtExpense': 'None', 'netIncomeFromContinuingOperations': '908300000', 'comprehensiveIncomeNetOfTax': '925600000', 'ebit': '1345900000', 'ebitda': '1687800000', 'netIncome': '908300000'}, {'fiscalDateEnding': '2022-12-31', 'reportedCurrency': 'USD', 'grossProfit': '2238400000', 'totalRevenue': '8713900000', 'costOfRevenue': '6475500000', 'costofGoodsAndServicesSold': '6475500000', 'operatingIncome': '1253100000', 'sellingGeneralAndAdministrative': '580900000', 'researchAndDevelopment': 'None', 'operatingExpenses': '1037300000', 'investmentIncomeNet': 'None', 'netInterestIncome': '-118100000', 'interestIncome': '11600000', 'interestExpense': '129700000', 'nonInterestIncome': 'None', 'otherNonOperatingIncome': '11600000', 'depreciation': 'None', 'depreciationAndAmortization': '327100000', 'incomeBeforeTax': '1135000000', 'incomeTaxExpense': '279800000', 'interestAndDebtExpense': 'None', 'netIncomeFromContinuingOperations': '855200000', 'comprehensiveIncomeNetOfTax': '779500000', 'ebit': '1264700000', 'ebitda': '1591800000', 'netIncome': '855200000'}, {'fiscalDateEnding': '2022-09-30', 'reportedCurrency': 'USD', 'grossProfit': '2158500000', 'totalRevenue': '8414200000', 'costOfRevenue': '6255700000', 'costofGoodsAndServicesSold': '6255700000', 'operatingIncome': '1195500000', 'sellingGeneralAndAdministrative': '538000000', 'researchAndDevelopment': 'None', 'operatingExpenses': '1018500000', 'investmentIncomeNet': 'None', 'netInterestIncome': '-94300000', 'interestIncome': '31000000', 'interestExpense': '125300000', 'nonInterestIncome': 'None', 'otherNonOperatingIncome': '31000000', 'depreciation': 'None', 'depreciationAndAmortization': '357400000', 'incomeBeforeTax': '1100900000', 'incomeTaxExpense': '222600000', 'interestAndDebtExpense': 'None', 'netIncomeFromContinuingOperations': '878500000', 'comprehensiveIncomeNetOfTax': '480100000', 'ebit': '1226200000', 'ebitda': '1583600000', 'netIncome': '878300000'}, {'fiscalDateEnding': '2022-06-30', 'reportedCurrency': 'USD', 'grossProfit': '5309600000', 'totalRevenue': '8150100000', 'costOfRevenue': '2840500000', 'costofGoodsAndServicesSold': '5916100000', 'operatingIncome': '1295500000', 'sellingGeneralAndAdministrative': '486700000', 'researchAndDevelopment': 'None', 'operatingExpenses': '992600000', 'investmentIncomeNet': 'None', 'netInterestIncome': '-123100000', 'interestIncome': '19800000', 'interestExpense': '123100000', 'nonInterestIncome': 'None', 'otherNonOperatingIncome': '19800000', 'depreciation': 'None', 'depreciationAndAmortization': '356800000', 'incomeBeforeTax': '1191400000', 'incomeTaxExpense': '278500000', 'interestAndDebtExpense': '123100000', 'netIncomeFromContinuingOperations': '913700000', 'comprehensiveIncomeNetOfTax': '587600000', 'ebit': '1314500000', 'ebitda': '1671300000', 'netIncome': '912900000'}, {'fiscalDateEnding': '2022-03-31', 'reportedCurrency': 'USD', 'grossProfit': '4763700000', 'totalRevenue': '7635600000', 'costOfRevenue': '2871900000', 'costofGoodsAndServicesSold': '5780500000', 'operatingIncome': '948900000', 'sellingGeneralAndAdministrative': '481500000', 'researchAndDevelopment': 'None', 'operatingExpenses': '955300000', 'investmentIncomeNet': 'None', 'netInterestIncome': '-119100000', 'interestIncome': '46300000', 'interestExpense': '119100000', 'nonInterestIncome': 'None', 'otherNonOperatingIncome': '46300000', 'depreciation': 'None', 'depreciationAndAmortization': '367700000', 'incomeBeforeTax': '875600000', 'incomeTaxExpense': '201100000', 'interestAndDebtExpense': '119100000', 'netIncomeFromContinuingOperations': '675000000', 'comprehensiveIncomeNetOfTax': '681300000', 'ebit': '994700000', 'ebitda': '1362400000', 'netIncome': '674500000'}, {'fiscalDateEnding': '2021-12-31', 'reportedCurrency': 'USD', 'grossProfit': '5155400000', 'totalRevenue': '8050400000', 'costOfRevenue': '2895000000', 'costofGoodsAndServicesSold': '5926900000', 'operatingIncome': '1177800000', 'sellingGeneralAndAdministrative': '525800000', 'researchAndDevelopment': 'None', 'operatingExpenses': '986000000', 'investmentIncomeNet': 'None', 'netInterestIncome': '-115300000', 'interestIncome': 'None', 'interestExpense': '115300000', 'nonInterestIncome': 'None', 'otherNonOperatingIncome': '-100000', 'depreciation': 'None', 'depreciationAndAmortization': '366000000', 'incomeBeforeTax': '1062200000', 'incomeTaxExpense': '246300000', 'interestAndDebtExpense': '115300000', 'netIncomeFromContinuingOperations': '816100000', 'comprehensiveIncomeNetOfTax': '922200000', 'ebit': '1177500000', 'ebitda': '1543500000', 'netIncome': '815900000'}, {'fiscalDateEnding': '2021-09-30', 'reportedCurrency': 'USD', 'grossProfit': '4962800000', 'totalRevenue': '8146700000', 'costOfRevenue': '3183900000', 'costofGoodsAndServicesSold': '5764500000', 'operatingIncome': '1482200000', 'sellingGeneralAndAdministrative': '806300000', 'researchAndDevelopment': 'None', 'operatingExpenses': '665300000', 'investmentIncomeNet': 'None', 'netInterestIncome': '-120600000', 'interestIncome': '21500000', 'interestExpense': '120600000', 'nonInterestIncome': 'None', 'otherNonOperatingIncome': '885800000', 'depreciation': 'None', 'depreciationAndAmortization': '354700000', 'incomeBeforeTax': '2247400000', 'incomeTaxExpense': '483000000', 'interestAndDebtExpense': '120600000', 'netIncomeFromContinuingOperations': '1764600000', 'comprehensiveIncomeNetOfTax': '1941300000', 'ebit': '2368000000', 'ebitda': '2722700000', 'netIncome': '1764400000'}, {'fiscalDateEnding': '2021-06-30', 'reportedCurrency': 'USD', 'grossProfit': '4876800000', 'totalRevenue': '7496500000', 'costOfRevenue': '2619700000', 'costofGoodsAndServicesSold': '5172900000', 'operatingIncome': '1488700000', 'sellingGeneralAndAdministrative': '494900000', 'researchAndDevelopment': 'None', 'operatingExpenses': '940400000', 'investmentIncomeNet': 'None', 'netInterestIncome': '-113400000', 'interestIncome': '36000000', 'interestExpense': '113400000', 'nonInterestIncome': 'None', 'otherNonOperatingIncome': '36000000', 'depreciation': 'None', 'depreciationAndAmortization': '354300000', 'incomeBeforeTax': '1410500000', 'incomeTaxExpense': '257100000', 'interestAndDebtExpense': '113400000', 'netIncomeFromContinuingOperations': '1154200000', 'comprehensiveIncomeNetOfTax': '1250000000', 'ebit': '1523900000', 'ebitda': '1878200000', 'netIncome': '1153400000'}, {'fiscalDateEnding': '2021-03-31', 'reportedCurrency': 'USD', 'grossProfit': '4149000000', 'totalRevenue': '6668000000', 'costOfRevenue': '2519000000', 'costofGoodsAndServicesSold': '4815700000', 'operatingIncome': '987600000', 'sellingGeneralAndAdministrative': '464400000', 'researchAndDevelopment': 'None', 'operatingExpenses': '941800000', 'investmentIncomeNet': 'None', 'netInterestIncome': '-115000000', 'interestIncome': '17300000', 'interestExpense': '115000000', 'nonInterestIncome': 'None', 'otherNonOperatingIncome': '17300000', 'depreciation': 'None', 'depreciationAndAmortization': '366700000', 'incomeBeforeTax': '889900000', 'incomeTaxExpense': '230500000', 'interestAndDebtExpense': '115000000', 'netIncomeFromContinuingOperations': '659400000', 'comprehensiveIncomeNetOfTax': '679000000', 'ebit': '1004900000', 'ebitda': '1371600000', 'netIncome': '659400000'}, {'fiscalDateEnding': '2020-12-31', 'reportedCurrency': 'USD', 'grossProfit': '4232800000', 'totalRevenue': '6749400000', 'costOfRevenue': '2516600000', 'costofGoodsAndServicesSold': '4916400000', 'operatingIncome': '913500000', 'sellingGeneralAndAdministrative': '472100000', 'researchAndDevelopment': 'None', 'operatingExpenses': '869600000', 'investmentIncomeNet': 'None', 'netInterestIncome': '-120700000', 'interestIncome': '15500000', 'interestExpense': '120700000', 'nonInterestIncome': 'None', 'otherNonOperatingIncome': '15500000', 'depreciation': 'None', 'depreciationAndAmortization': '366100000', 'incomeBeforeTax': '808300000', 'incomeTaxExpense': '186100000', 'interestAndDebtExpense': '120700000', 'netIncomeFromContinuingOperations': '622200000', 'comprehensiveIncomeNetOfTax': '840900000', 'ebit': '929000000', 'ebitda': '1295100000', 'netIncome': '622200000'}, {'fiscalDateEnding': '2020-09-30', 'reportedCurrency': 'USD', 'grossProfit': '6203100000', 'totalRevenue': '6203100000', 'costOfRevenue': '2704000000', 'costofGoodsAndServicesSold': '4660200000', 'operatingIncome': '558300000', 'sellingGeneralAndAdministrative': '697800000', 'researchAndDevelopment': 'None', 'operatingExpenses': '1395500000', 'investmentIncomeNet': 'None', 'netInterestIncome': '-124900000', 'interestIncome': '9000000', 'interestExpense': '124900000', 'nonInterestIncome': '84900000', 'otherNonOperatingIncome': '9100000', 'depreciation': 'None', 'depreciationAndAmortization': '363000000', 'incomeBeforeTax': '442300000', 'incomeTaxExpense': '49700000', 'interestAndDebtExpense': '124900000', 'netIncomeFromContinuingOperations': '558300000', 'comprehensiveIncomeNetOfTax': '557900000', 'ebit': '567200000', 'ebitda': '930200000', 'netIncome': '392600000'}, {'fiscalDateEnding': '2020-06-30', 'reportedCurrency': 'USD', 'grossProfit': '1905400000', 'totalRevenue': '4222100000', 'costOfRevenue': '2316700000', 'costofGoodsAndServicesSold': '4021800000', 'operatingIncome': '-703900000', 'sellingGeneralAndAdministrative': '399900000', 'researchAndDevelopment': 'None', 'operatingExpenses': '972600000', 'investmentIncomeNet': 'None', 'netInterestIncome': '-120800000', 'interestIncome': '12700000', 'interestExpense': '120800000', 'nonInterestIncome': '0', 'otherNonOperatingIncome': '12700000', 'depreciation': 'None', 'depreciationAndAmortization': '361000000', 'incomeBeforeTax': '-812300000', 'incomeTaxExpense': '-133900000', 'interestAndDebtExpense': '120800000', 'netIncomeFromContinuingOperations': '-678100000', 'comprehensiveIncomeNetOfTax': '-686500000', 'ebit': '-691500000', 'ebitda': '-330500000', 'netIncome': '-678400000'}, {'fiscalDateEnding': '2020-03-31', 'reportedCurrency': 'USD', 'grossProfit': '3235900000', 'totalRevenue': '5995700000', 'costOfRevenue': '2759800000', 'costofGoodsAndServicesSold': '1997700000', 'operatingIncome': '487400000', 'sellingGeneralAndAdministrative': '406500000', 'researchAndDevelopment': 'None', 'operatingExpenses': '857100000', 'investmentIncomeNet': 'None', 'netInterestIncome': '-99200000', 'interestIncome': '2000000', 'interestExpense': '99200000', 'nonInterestIncome': '0', 'otherNonOperatingIncome': '2000000', 'depreciation': 'None', 'depreciationAndAmortization': '356300000', 'incomeBeforeTax': '393800000', 'incomeTaxExpense': '65400000', 'interestAndDebtExpense': '99200000', 'netIncomeFromContinuingOperations': '324800000', 'comprehensiveIncomeNetOfTax': '194000000', 'ebit': '493000000', 'ebitda': '849300000', 'netIncome': '328400000'}, {'fiscalDateEnding': '2019-12-31', 'reportedCurrency': 'USD', 'grossProfit': '4069200000', 'totalRevenue': '7097100000', 'costOfRevenue': '3027900000', 'costofGoodsAndServicesSold': '2236400000', 'operatingIncome': '1219800000', 'sellingGeneralAndAdministrative': '434200000', 'researchAndDevelopment': 'None', 'operatingExpenses': '893300000', 'investmentIncomeNet': 'None', 'netInterestIncome': '-91900000', 'interestIncome': '15900000', 'interestExpense': '91900000', 'nonInterestIncome': 'None', 'otherNonOperatingIncome': '15900000', 'depreciation': 'None', 'depreciationAndAmortization': '351000000', 'incomeBeforeTax': '1144200000', 'incomeTaxExpense': '258500000', 'interestAndDebtExpense': '91900000', 'netIncomeFromContinuingOperations': '885300000', 'comprehensiveIncomeNetOfTax': '996800000', 'ebit': '1236100000', 'ebitda': '1587100000', 'netIncome': '885700000'}, {'fiscalDateEnding': '2019-09-30', 'reportedCurrency': 'USD', 'grossProfit': '6747000000', 'totalRevenue': '6747000000', 'costOfRevenue': '1363100000', 'costofGoodsAndServicesSold': '355800000', 'operatingIncome': '1083300000', 'sellingGeneralAndAdministrative': '650600000', 'researchAndDevelopment': 'None', 'operatingExpenses': '1048500000', 'investmentIncomeNet': 'None', 'netInterestIncome': '-95700000', 'interestIncome': '16300000', 'interestExpense': '95700000', 'nonInterestIncome': '64600000', 'otherNonOperatingIncome': '16300000', 'depreciation': 'None', 'depreciationAndAmortization': '344800000', 'incomeBeforeTax': '1004400000', 'incomeTaxExpense': '201500000', 'interestAndDebtExpense': '95700000', 'netIncomeFromContinuingOperations': '1083300000', 'comprehensiveIncomeNetOfTax': '648500000', 'ebit': '1100100000', 'ebitda': '1444900000', 'netIncome': '802900000'}, {'fiscalDateEnding': '2019-06-30', 'reportedCurrency': 'USD', 'grossProfit': '3153400000', 'totalRevenue': '6823000000', 'costOfRevenue': '3669600000', 'costofGoodsAndServicesSold': '2808600000', 'operatingIncome': '1121300000', 'sellingGeneralAndAdministrative': '480200000', 'researchAndDevelopment': 'None', 'operatingExpenses': '348800000', 'investmentIncomeNet': 'None', 'netInterestIncome': '-86400000', 'interestIncome': '40200000', 'interestExpense': '86400000', 'nonInterestIncome': '601800000', 'otherNonOperatingIncome': '642000000', 'depreciation': 'None', 'depreciationAndAmortization': '343100000', 'incomeBeforeTax': '1676500000', 'incomeTaxExpense': '303700000', 'interestAndDebtExpense': '86400000', 'netIncomeFromContinuingOperations': '1373200000', 'comprehensiveIncomeNetOfTax': '1295300000', 'ebit': '1762900000', 'ebitda': '2106000000', 'netIncome': '1372800000'}, {'fiscalDateEnding': '2019-03-31', 'reportedCurrency': 'USD', 'grossProfit': '2827300000', 'totalRevenue': '6305900000', 'costOfRevenue': '3478600000', 'costofGoodsAndServicesSold': '2012000000', 'operatingIncome': '857700000', 'sellingGeneralAndAdministrative': '475600000', 'researchAndDevelopment': 'None', 'operatingExpenses': '936100000', 'investmentIncomeNet': 'None', 'netInterestIncome': '-73900000', 'interestIncome': '15200000', 'interestExpense': '73900000', 'nonInterestIncome': '21000000', 'otherNonOperatingIncome': '36200000', 'depreciation': 'None', 'depreciationAndAmortization': '356200000', 'incomeBeforeTax': '824400000', 'incomeTaxExpense': '161200000', 'interestAndDebtExpense': '73900000', 'netIncomeFromContinuingOperations': '658800000', 'comprehensiveIncomeNetOfTax': '734900000', 'ebit': '898300000', 'ebitda': '1254500000', 'netIncome': '663200000'}, {'fiscalDateEnding': '2018-12-31', 'reportedCurrency': 'USD', 'grossProfit': '3034100000', 'totalRevenue': '6632700000', 'costOfRevenue': '3598600000', 'costofGoodsAndServicesSold': '2175800000', 'operatingIncome': '1015700000', 'sellingGeneralAndAdministrative': '463300000', 'researchAndDevelopment': 'None', 'operatingExpenses': '933100000', 'investmentIncomeNet': 'None', 'netInterestIncome': '-75000000', 'interestIncome': 'None', 'interestExpense': '75000000', 'nonInterestIncome': '0', 'otherNonOperatingIncome': '24800000', 'depreciation': 'None', 'depreciationAndAmortization': '333400000', 'incomeBeforeTax': '965700000', 'incomeTaxExpense': '205100000', 'interestAndDebtExpense': '75000000', 'netIncomeFromContinuingOperations': '760400000', 'comprehensiveIncomeNetOfTax': '747700000', 'ebit': '1040700000', 'ebitda': '1374100000', 'netIncome': '760600000'}, {'fiscalDateEnding': '2018-09-30', 'reportedCurrency': 'USD', 'grossProfit': '6303600000', 'totalRevenue': '6303600000', 'costOfRevenue': '3777200000', 'costofGoodsAndServicesSold': '360900000', 'operatingIncome': '956600000', 'sellingGeneralAndAdministrative': '720300000', 'researchAndDevelopment': 'None', 'operatingExpenses': '1359200000', 'investmentIncomeNet': 'None', 'netInterestIncome': '-63900000', 'interestIncome': 'None', 'interestExpense': '63900000', 'nonInterestIncome': '-29900000', 'otherNonOperatingIncome': '39100000', 'depreciation': 'None', 'depreciationAndAmortization': '326600000', 'incomeBeforeTax': '931300000', 'incomeTaxExpense': '175500000', 'interestAndDebtExpense': '63900000', 'netIncomeFromContinuingOperations': '956600000', 'comprehensiveIncomeNetOfTax': '627900000', 'ebit': '995200000', 'ebitda': '1321800000', 'netIncome': '755800000'}]}\n"
     ]
    }
   ],
   "source": [
    "url = 'https://www.alphavantage.co/query?function=INCOME_STATEMENT&symbol=SBUX&interval=5min&apikey=XFYGY6J374NSETZP'\n",
    "r = requests.get(url)\n",
    "data = r.json()\n",
    "\n",
    "print(data) #requesting yearly revenue data for starbucks with a free API key\n"
   ]
  },
  {
   "cell_type": "markdown",
   "metadata": {
    "id": "QEeLqqMsQt_O"
   },
   "source": [
    "Total revenue of Starbucks of year 2022"
   ]
  },
  {
   "cell_type": "code",
   "execution_count": 13,
   "metadata": {
    "colab": {
     "base_uri": "https://localhost:8080/",
     "height": 36
    },
    "id": "wieaKoAdNfid",
    "outputId": "0e0dbf10-2bb0-4258-daf3-6714550f0014"
   },
   "outputs": [
    {
     "data": {
      "text/plain": [
       "'32250300000'"
      ]
     },
     "execution_count": 13,
     "metadata": {},
     "output_type": "execute_result"
    }
   ],
   "source": [
    "revenue = data[\"annualReports\"][0]['totalRevenue']\n",
    "revenue"
   ]
  },
  {
   "cell_type": "markdown",
   "metadata": {
    "id": "1ZgYCDNWuVGu"
   },
   "source": [
    "To calculate the revenue per state we divide the overall revenue throughtout America by the total number of locations of Starbucks and estimate the revenue per state.(assuming equal revenue per location for analyzing purposes)"
   ]
  },
  {
   "cell_type": "markdown",
   "metadata": {
    "id": "WMHKdUNwwW3h"
   },
   "source": [
    "Assess and comment on the prevalence of each chain. Some questions to consider (you don’t need to answer all of these and you may come up with your own):\n",
    "Are some of these chains more prevalent in certain states than others? Possibly despite having less stores overall? Same questions for regions instead of states.<br>\n",
    "As I was estimating the revenue per location to be equal which resulted in the revenue generated by each state became dependent on the total number of locations each state had. But the number of locations might have be built based on the number of orders and customer traffic. In this case it can be assumed that more number of locations generated more revenue\n",
    "\n",
    "How does your chosen financial metric change by state and region for each chain? For example, having 5 stores in California is very different from having 5 stores in Wyoming.\n",
    "\n",
    "Does the distribution of each chain’s stores match population distribution, by both state/region?\n",
    "Yes, it might be possible to have different no. of locations for each chain\n",
    "\n",
    "Do the financial data match what you’d expect based on the number and locations of the stores? Why or why not?"
   ]
  }
 ],
 "metadata": {
  "colab": {
   "provenance": []
  },
  "kernelspec": {
   "display_name": "Python 3 (ipykernel)",
   "language": "python",
   "name": "python3"
  },
  "language_info": {
   "codemirror_mode": {
    "name": "ipython",
    "version": 3
   },
   "file_extension": ".py",
   "mimetype": "text/x-python",
   "name": "python",
   "nbconvert_exporter": "python",
   "pygments_lexer": "ipython3",
   "version": "3.11.4"
  }
 },
 "nbformat": 4,
 "nbformat_minor": 1
}
