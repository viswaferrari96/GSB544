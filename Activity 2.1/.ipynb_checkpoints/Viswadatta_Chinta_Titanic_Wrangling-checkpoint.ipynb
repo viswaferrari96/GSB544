{
 "cells": [
  {
   "cell_type": "raw",
   "metadata": {},
   "source": [
    "---\n",
    "self-contained: true\n",
    "author: \"Viswadatta Chinta\"\n",
    "format:\n",
    "    html:\n",
    "        mainfont: sans-serif;\n",
    "        theme: darkly\n",
    "---"
   ]
  },
  {
   "cell_type": "markdown",
   "metadata": {
    "id": "QWpPySbzYEIV"
   },
   "source": [
    "# Titanic Wrangling\n",
    "\n",
    "In this practice activity you'll continue to work with the titanic dataset in ways that flex what you've learned about both data wrangling and data visualization."
   ]
  },
  {
   "cell_type": "code",
   "execution_count": 2,
   "metadata": {
    "id": "Nr6w8bVCf_NM"
   },
   "outputs": [],
   "source": [
    "# Import the titanic dataset here\n",
    "import numpy as np\n",
    "import pandas as pd\n",
    "from plotnine import ggplot,aes,geom_col,facet_wrap,labs,theme_light,geom_text,position_stack,geom_text\n",
    "\n",
    "data_dir = \"https://dlsun.github.io/pods/data/\"\n",
    "df_titanic = pd.read_csv(data_dir + \"titanic.csv\")"
   ]
  },
  {
   "cell_type": "markdown",
   "metadata": {
    "id": "9UgZD6VFYa96"
   },
   "source": [
    "## 1. Filter the data to include passengers only. Calculate the joint distribution (cross-tab) between a passenger's class and where they embarked."
   ]
  },
  {
   "cell_type": "code",
   "execution_count": 3,
   "metadata": {
    "colab": {
     "base_uri": "https://localhost:8080/",
     "height": 269
    },
    "id": "TBthOzDLgBif",
    "outputId": "bbaf6d4b-7738-47d6-eb46-b3afddd0980a"
   },
   "outputs": [
    {
     "data": {
      "text/html": [
       "<div>\n",
       "<style scoped>\n",
       "    .dataframe tbody tr th:only-of-type {\n",
       "        vertical-align: middle;\n",
       "    }\n",
       "\n",
       "    .dataframe tbody tr th {\n",
       "        vertical-align: top;\n",
       "    }\n",
       "\n",
       "    .dataframe thead th {\n",
       "        text-align: right;\n",
       "    }\n",
       "</style>\n",
       "<table border=\"1\" class=\"dataframe\">\n",
       "  <thead>\n",
       "    <tr style=\"text-align: right;\">\n",
       "      <th></th>\n",
       "      <th>name</th>\n",
       "      <th>gender</th>\n",
       "      <th>age</th>\n",
       "      <th>class</th>\n",
       "      <th>embarked</th>\n",
       "      <th>country</th>\n",
       "      <th>ticketno</th>\n",
       "      <th>fare</th>\n",
       "      <th>survived</th>\n",
       "    </tr>\n",
       "  </thead>\n",
       "  <tbody>\n",
       "    <tr>\n",
       "      <th>0</th>\n",
       "      <td>Abbing, Mr. Anthony</td>\n",
       "      <td>male</td>\n",
       "      <td>42.0</td>\n",
       "      <td>3rd</td>\n",
       "      <td>S</td>\n",
       "      <td>United States</td>\n",
       "      <td>5547.0</td>\n",
       "      <td>7.1100</td>\n",
       "      <td>0</td>\n",
       "    </tr>\n",
       "    <tr>\n",
       "      <th>1</th>\n",
       "      <td>Abbott, Mr. Eugene Joseph</td>\n",
       "      <td>male</td>\n",
       "      <td>13.0</td>\n",
       "      <td>3rd</td>\n",
       "      <td>S</td>\n",
       "      <td>United States</td>\n",
       "      <td>2673.0</td>\n",
       "      <td>20.0500</td>\n",
       "      <td>0</td>\n",
       "    </tr>\n",
       "    <tr>\n",
       "      <th>2</th>\n",
       "      <td>Abbott, Mr. Rossmore Edward</td>\n",
       "      <td>male</td>\n",
       "      <td>16.0</td>\n",
       "      <td>3rd</td>\n",
       "      <td>S</td>\n",
       "      <td>United States</td>\n",
       "      <td>2673.0</td>\n",
       "      <td>20.0500</td>\n",
       "      <td>0</td>\n",
       "    </tr>\n",
       "    <tr>\n",
       "      <th>3</th>\n",
       "      <td>Abbott, Mrs. Rhoda Mary 'Rosa'</td>\n",
       "      <td>female</td>\n",
       "      <td>39.0</td>\n",
       "      <td>3rd</td>\n",
       "      <td>S</td>\n",
       "      <td>England</td>\n",
       "      <td>2673.0</td>\n",
       "      <td>20.0500</td>\n",
       "      <td>1</td>\n",
       "    </tr>\n",
       "    <tr>\n",
       "      <th>4</th>\n",
       "      <td>Abelseth, Miss. Karen Marie</td>\n",
       "      <td>female</td>\n",
       "      <td>16.0</td>\n",
       "      <td>3rd</td>\n",
       "      <td>S</td>\n",
       "      <td>Norway</td>\n",
       "      <td>348125.0</td>\n",
       "      <td>7.1300</td>\n",
       "      <td>1</td>\n",
       "    </tr>\n",
       "    <tr>\n",
       "      <th>...</th>\n",
       "      <td>...</td>\n",
       "      <td>...</td>\n",
       "      <td>...</td>\n",
       "      <td>...</td>\n",
       "      <td>...</td>\n",
       "      <td>...</td>\n",
       "      <td>...</td>\n",
       "      <td>...</td>\n",
       "      <td>...</td>\n",
       "    </tr>\n",
       "    <tr>\n",
       "      <th>1314</th>\n",
       "      <td>Yvois, Miss. Henriette</td>\n",
       "      <td>female</td>\n",
       "      <td>24.0</td>\n",
       "      <td>2nd</td>\n",
       "      <td>S</td>\n",
       "      <td>France</td>\n",
       "      <td>248747.0</td>\n",
       "      <td>13.0000</td>\n",
       "      <td>0</td>\n",
       "    </tr>\n",
       "    <tr>\n",
       "      <th>1315</th>\n",
       "      <td>Zakarian, Mr. Mapriededer</td>\n",
       "      <td>male</td>\n",
       "      <td>22.0</td>\n",
       "      <td>3rd</td>\n",
       "      <td>C</td>\n",
       "      <td>Turkey</td>\n",
       "      <td>2656.0</td>\n",
       "      <td>7.0406</td>\n",
       "      <td>0</td>\n",
       "    </tr>\n",
       "    <tr>\n",
       "      <th>1316</th>\n",
       "      <td>Zakarian, Mr. Ortin</td>\n",
       "      <td>male</td>\n",
       "      <td>27.0</td>\n",
       "      <td>3rd</td>\n",
       "      <td>C</td>\n",
       "      <td>Turkey</td>\n",
       "      <td>2670.0</td>\n",
       "      <td>7.0406</td>\n",
       "      <td>0</td>\n",
       "    </tr>\n",
       "    <tr>\n",
       "      <th>1317</th>\n",
       "      <td>Zenni, Mr. Philip</td>\n",
       "      <td>male</td>\n",
       "      <td>25.0</td>\n",
       "      <td>3rd</td>\n",
       "      <td>C</td>\n",
       "      <td>Lebanon</td>\n",
       "      <td>2620.0</td>\n",
       "      <td>7.0406</td>\n",
       "      <td>1</td>\n",
       "    </tr>\n",
       "    <tr>\n",
       "      <th>1318</th>\n",
       "      <td>Zimmermann, Mr. Leo</td>\n",
       "      <td>male</td>\n",
       "      <td>29.0</td>\n",
       "      <td>3rd</td>\n",
       "      <td>S</td>\n",
       "      <td>Germany</td>\n",
       "      <td>315082.0</td>\n",
       "      <td>7.1706</td>\n",
       "      <td>0</td>\n",
       "    </tr>\n",
       "  </tbody>\n",
       "</table>\n",
       "<p>1317 rows × 9 columns</p>\n",
       "</div>"
      ],
      "text/plain": [
       "                                name  gender   age class embarked  \\\n",
       "0                Abbing, Mr. Anthony    male  42.0   3rd        S   \n",
       "1          Abbott, Mr. Eugene Joseph    male  13.0   3rd        S   \n",
       "2        Abbott, Mr. Rossmore Edward    male  16.0   3rd        S   \n",
       "3     Abbott, Mrs. Rhoda Mary 'Rosa'  female  39.0   3rd        S   \n",
       "4        Abelseth, Miss. Karen Marie  female  16.0   3rd        S   \n",
       "...                              ...     ...   ...   ...      ...   \n",
       "1314          Yvois, Miss. Henriette  female  24.0   2nd        S   \n",
       "1315       Zakarian, Mr. Mapriededer    male  22.0   3rd        C   \n",
       "1316             Zakarian, Mr. Ortin    male  27.0   3rd        C   \n",
       "1317               Zenni, Mr. Philip    male  25.0   3rd        C   \n",
       "1318             Zimmermann, Mr. Leo    male  29.0   3rd        S   \n",
       "\n",
       "            country  ticketno     fare  survived  \n",
       "0     United States    5547.0   7.1100         0  \n",
       "1     United States    2673.0  20.0500         0  \n",
       "2     United States    2673.0  20.0500         0  \n",
       "3           England    2673.0  20.0500         1  \n",
       "4            Norway  348125.0   7.1300         1  \n",
       "...             ...       ...      ...       ...  \n",
       "1314         France  248747.0  13.0000         0  \n",
       "1315         Turkey    2656.0   7.0406         0  \n",
       "1316         Turkey    2670.0   7.0406         0  \n",
       "1317        Lebanon    2620.0   7.0406         1  \n",
       "1318        Germany  315082.0   7.1706         0  \n",
       "\n",
       "[1317 rows x 9 columns]"
      ]
     },
     "execution_count": 3,
     "metadata": {},
     "output_type": "execute_result"
    }
   ],
   "source": [
    "# Code here\n",
    "df_titanic[\"class\"]\n",
    "passenger_filter = [\"1st\", \"2nd\", \"3rd\"]\n",
    "passengers = df_titanic[\"class\"].isin(passenger_filter)\n",
    "passengers_df = df_titanic[passengers]\n",
    "passengers_df"
   ]
  },
  {
   "cell_type": "code",
   "execution_count": 10,
   "metadata": {
    "colab": {
     "base_uri": "https://localhost:8080/",
     "height": 206
    },
    "id": "tXyGKms59PLh",
    "outputId": "20b98432-4b7a-4c8e-ae1f-0d756e36d17e"
   },
   "outputs": [
    {
     "data": {
      "text/html": [
       "<div>\n",
       "<style scoped>\n",
       "    .dataframe tbody tr th:only-of-type {\n",
       "        vertical-align: middle;\n",
       "    }\n",
       "\n",
       "    .dataframe tbody tr th {\n",
       "        vertical-align: top;\n",
       "    }\n",
       "\n",
       "    .dataframe thead th {\n",
       "        text-align: right;\n",
       "    }\n",
       "</style>\n",
       "<table border=\"1\" class=\"dataframe\">\n",
       "  <thead>\n",
       "    <tr style=\"text-align: right;\">\n",
       "      <th>class</th>\n",
       "      <th>1st</th>\n",
       "      <th>2nd</th>\n",
       "      <th>3rd</th>\n",
       "    </tr>\n",
       "    <tr>\n",
       "      <th>embarked</th>\n",
       "      <th></th>\n",
       "      <th></th>\n",
       "      <th></th>\n",
       "    </tr>\n",
       "  </thead>\n",
       "  <tbody>\n",
       "    <tr>\n",
       "      <th>B</th>\n",
       "      <td>3</td>\n",
       "      <td>6</td>\n",
       "      <td>0</td>\n",
       "    </tr>\n",
       "    <tr>\n",
       "      <th>C</th>\n",
       "      <td>143</td>\n",
       "      <td>26</td>\n",
       "      <td>102</td>\n",
       "    </tr>\n",
       "    <tr>\n",
       "      <th>Q</th>\n",
       "      <td>3</td>\n",
       "      <td>7</td>\n",
       "      <td>113</td>\n",
       "    </tr>\n",
       "    <tr>\n",
       "      <th>S</th>\n",
       "      <td>175</td>\n",
       "      <td>245</td>\n",
       "      <td>494</td>\n",
       "    </tr>\n",
       "  </tbody>\n",
       "</table>\n",
       "</div>"
      ],
      "text/plain": [
       "class     1st  2nd  3rd\n",
       "embarked               \n",
       "B           3    6    0\n",
       "C         143   26  102\n",
       "Q           3    7  113\n",
       "S         175  245  494"
      ]
     },
     "execution_count": 10,
     "metadata": {},
     "output_type": "execute_result"
    }
   ],
   "source": [
    "joint = pd.crosstab(passengers_df[\"embarked\"],passengers_df[\"class\"])\n",
    "joint\n"
   ]
  },
  {
   "cell_type": "code",
   "execution_count": 42,
   "metadata": {},
   "outputs": [
    {
     "data": {
      "text/html": [
       "<div>\n",
       "<style scoped>\n",
       "    .dataframe tbody tr th:only-of-type {\n",
       "        vertical-align: middle;\n",
       "    }\n",
       "\n",
       "    .dataframe tbody tr th {\n",
       "        vertical-align: top;\n",
       "    }\n",
       "\n",
       "    .dataframe thead th {\n",
       "        text-align: right;\n",
       "    }\n",
       "</style>\n",
       "<table border=\"1\" class=\"dataframe\">\n",
       "  <thead>\n",
       "    <tr style=\"text-align: right;\">\n",
       "      <th>class</th>\n",
       "      <th>1st</th>\n",
       "      <th>2nd</th>\n",
       "      <th>3rd</th>\n",
       "    </tr>\n",
       "    <tr>\n",
       "      <th>embarked</th>\n",
       "      <th></th>\n",
       "      <th></th>\n",
       "      <th></th>\n",
       "    </tr>\n",
       "  </thead>\n",
       "  <tbody>\n",
       "    <tr>\n",
       "      <th>B</th>\n",
       "      <td>0.333333</td>\n",
       "      <td>0.666667</td>\n",
       "      <td>0.000000</td>\n",
       "    </tr>\n",
       "    <tr>\n",
       "      <th>C</th>\n",
       "      <td>0.527675</td>\n",
       "      <td>0.095941</td>\n",
       "      <td>0.376384</td>\n",
       "    </tr>\n",
       "    <tr>\n",
       "      <th>Q</th>\n",
       "      <td>0.024390</td>\n",
       "      <td>0.056911</td>\n",
       "      <td>0.918699</td>\n",
       "    </tr>\n",
       "    <tr>\n",
       "      <th>S</th>\n",
       "      <td>0.191466</td>\n",
       "      <td>0.268053</td>\n",
       "      <td>0.540481</td>\n",
       "    </tr>\n",
       "  </tbody>\n",
       "</table>\n",
       "</div>"
      ],
      "text/plain": [
       "class          1st       2nd       3rd\n",
       "embarked                              \n",
       "B         0.333333  0.666667  0.000000\n",
       "C         0.527675  0.095941  0.376384\n",
       "Q         0.024390  0.056911  0.918699\n",
       "S         0.191466  0.268053  0.540481"
      ]
     },
     "execution_count": 42,
     "metadata": {},
     "output_type": "execute_result"
    }
   ],
   "source": [
    "joint = pd.crosstab(passengers_df[\"embarked\"],passengers_df[\"class\"],normalize = 'index')\n",
    "joint"
   ]
  },
  {
   "cell_type": "markdown",
   "metadata": {
    "id": "3CRaJLSyYm4d"
   },
   "source": [
    "## 2. Using the joint distribution that calculated above, calculate the following:\n",
    "\n",
    "* the conditional distribution of their class given where they embarked\n",
    "* the conditional distribution of where they embarked given their class\n",
    "\n",
    "Use the conditional distributions that you calculate to answer the following quesitons:\n",
    "\n",
    "* What proportion of 3rd class passengers embarked at Southampton?\n",
    "* What proportion of Southampton passengers were in 3rd class?"
   ]
  },
  {
   "cell_type": "code",
   "execution_count": 45,
   "metadata": {
    "id": "TfTGidLIv1k0"
   },
   "outputs": [
    {
     "name": "stdout",
     "output_type": "stream",
     "text": [
      "embarked         B         C         Q         S\n",
      "class                                           \n",
      "1st       0.333333  0.527675  0.024390  0.191466\n",
      "2nd       0.666667  0.095941  0.056911  0.268053\n",
      "3rd       0.000000  0.376384  0.918699  0.540481\n"
     ]
    }
   ],
   "source": [
    "# Calculate the conditional distribution of where they embarked given their class\n",
    "cd_class_given_embarked = pd.crosstab(passengers_df['class'], passengers_df['embarked'], normalize='columns')\n",
    "# Print the conditional distribution\n",
    "print(cd_class_given_embarked)"
   ]
  },
  {
   "cell_type": "code",
   "execution_count": 36,
   "metadata": {
    "colab": {
     "base_uri": "https://localhost:8080/"
    },
    "id": "zliJSe_zKVva",
    "outputId": "2f83f43e-8f27-4a87-bde2-f1800cb70711",
    "scrolled": false
   },
   "outputs": [
    {
     "name": "stdout",
     "output_type": "stream",
     "text": [
      "embarked         B         C         Q         S\n",
      "class                                           \n",
      "1st       0.009259  0.441358  0.009259  0.540123\n",
      "2nd       0.021127  0.091549  0.024648  0.862676\n",
      "3rd       0.000000  0.143865  0.159379  0.696756\n"
     ]
    }
   ],
   "source": [
    "# Calculate the conditional distribution of where they embarked given their class\n",
    "cd_embarked_given_class = pd.crosstab(passengers_df['class'], passengers_df['embarked'], normalize='index')\n",
    "# Print the conditional distribution\n",
    "print(cd_embarked_given_class)"
   ]
  },
  {
   "cell_type": "code",
   "execution_count": 58,
   "metadata": {},
   "outputs": [
    {
     "name": "stdout",
     "output_type": "stream",
     "text": [
      "0.6967559943582511\n"
     ]
    }
   ],
   "source": [
    "# What proportion of 3rd class passengers embarked at Southampton? class is given and find the proportion of 3rd class at S, we will use the given_class distribution from above\n",
    "third_class_Southampton = cd_embarked_given_class.loc['3rd','S']\n",
    "print(third_class_Southampton)"
   ]
  },
  {
   "cell_type": "markdown",
   "metadata": {
    "id": "hEv4BmciKqwk"
   },
   "source": [
    "69.67% of 3rd class passengers embarked at Southampton"
   ]
  },
  {
   "cell_type": "code",
   "execution_count": 59,
   "metadata": {
    "colab": {
     "base_uri": "https://localhost:8080/"
    },
    "id": "vUfwD0HAKnSc",
    "outputId": "bf990f26-f370-48c7-822f-4709aff8152d"
   },
   "outputs": [
    {
     "name": "stdout",
     "output_type": "stream",
     "text": [
      "0.5404814004376368\n"
     ]
    }
   ],
   "source": [
    "# What proportion of Southampton passengers were in 3rd class? embarked S is given and find the pro of s for 3rd class, we will use the given_embarked distribution from above\n",
    "proportion_Southampton_3rd_class = given_embarked.loc['S', '3rd']\n",
    "print(proportion_Southampton_3rd_class)"
   ]
  },
  {
   "cell_type": "markdown",
   "metadata": {
    "id": "VsFy0X5-MAIu"
   },
   "source": [
    "54.08% of the passengers who embarked from Southampton were 3rd class passengers"
   ]
  },
  {
   "cell_type": "markdown",
   "metadata": {
    "id": "pGUQeeh1ZRfz"
   },
   "source": [
    "## 3. Make a visualization showing the distribution of a passenger's class, given where they embarked.\n",
    "\n",
    "Discuss the pros and cons of using this visualization versus the distributions you calculated before, to answer the previous questions."
   ]
  },
  {
   "cell_type": "code",
   "execution_count": 60,
   "metadata": {
    "colab": {
     "base_uri": "https://localhost:8080/",
     "height": 740
    },
    "id": "eyddTNvWVb7k",
    "outputId": "45b9686d-daf8-4179-d3c3-0a9fc3329911"
   },
   "outputs": [
    {
     "name": "stdout",
     "output_type": "stream",
     "text": [
      "   embarked class  distribution\n",
      "0         B   1st          0.33\n",
      "1         C   1st          0.53\n",
      "2         Q   1st          0.02\n",
      "3         S   1st          0.19\n",
      "4         B   2nd          0.67\n",
      "5         C   2nd          0.10\n",
      "6         Q   2nd          0.06\n",
      "7         S   2nd          0.27\n",
      "8         B   3rd          0.00\n",
      "9         C   3rd          0.38\n",
      "10        Q   3rd          0.92\n",
      "11        S   3rd          0.54\n"
     ]
    },
    {
     "data": {
      "image/png": "[encoded data removed]",
      "text/plain": [
       "<Figure size 640x480 with 1 Axes>"
      ]
     },
     "metadata": {
      "image/png": {
       "height": 480,
       "width": 640
      }
     },
     "output_type": "display_data"
    },
    {
     "name": "stdout",
     "output_type": "stream",
     "text": [
      "\n"
     ]
    }
   ],
   "source": [
    "melted_df = pd.melt(joint.reset_index(), id_vars='embarked', var_name='class', value_name='distribution')\n",
    "melted_df['distribution'] = melted_df.distribution.round(2)\n",
    "plot = (\n",
    "    ggplot(melted_df,\n",
    "           aes(\n",
    "              x='embarked',\n",
    "              y='distribution',\n",
    "              fill='class', label='distribution')) +\n",
    "    geom_col() +\n",
    "    labs(y='Percentage', x='Embarked', title=\"Distribution of passenger's class given where they embarked\")+\n",
    "    geom_text(size=\"7\", position = position_stack(vjust = 0.5))\n",
    "    )\n",
    "print(melted_df)\n",
    "print(plot)"
   ]
  },
  {
   "cell_type": "markdown",
   "metadata": {
    "id": "IZ-ZrIYVcigu"
   },
   "source": [
    "Cons:<br>\n",
    "Cannot make a plot using the joint distribuiton table.<br>\n",
    "Might be a abit skewed and can tell a adifferent story.<br>\n",
    "\n",
    "Pros:<br>\n",
    "Immediate understanding of the distribution without further calculation for all audience.<br>\n",
    "Gives an overall distribution based on the percentages of the passengers in Titanic."
   ]
  }
 ],
 "metadata": {
  "colab": {
   "provenance": []
  },
  "kernelspec": {
   "display_name": "Python 3 (ipykernel)",
   "language": "python",
   "name": "python3"
  },
  "language_info": {
   "codemirror_mode": {
    "name": "ipython",
    "version": 3
   },
   "file_extension": ".py",
   "mimetype": "text/x-python",
   "name": "python",
   "nbconvert_exporter": "python",
   "pygments_lexer": "ipython3",
   "version": "3.11.4"
  }
 },
 "nbformat": 4,
 "nbformat_minor": 1
}
